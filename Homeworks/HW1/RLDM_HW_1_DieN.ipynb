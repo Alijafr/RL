{
 "cells": [
  {
   "cell_type": "markdown",
   "metadata": {},
   "source": [
    "#### Reinforcement Learning and Decision Making &nbsp;&nbsp;&nbsp;&nbsp;&nbsp;&nbsp;&nbsp;&nbsp;&nbsp;&nbsp; &nbsp;&nbsp;&nbsp;&nbsp;&nbsp;&nbsp;&nbsp;&nbsp;&nbsp;&nbsp;&nbsp;&nbsp;&nbsp;&nbsp;&nbsp;&nbsp;&nbsp;&nbsp;&nbsp;&nbsp;&nbsp;&nbsp;&nbsp;&nbsp;&nbsp;&nbsp;&nbsp;&nbsp;&nbsp;&nbsp;&nbsp;&nbsp;&nbsp;&nbsp;&nbsp;&nbsp;&nbsp;&nbsp;&nbsp;&nbsp;&nbsp;&nbsp;&nbsp;&nbsp;&nbsp;&nbsp;&nbsp;&nbsp;&nbsp;&nbsp;&nbsp;&nbsp;&nbsp;&nbsp;&nbsp;&nbsp;&nbsp;&nbsp;&nbsp;&nbsp;&nbsp;&nbsp;&nbsp;&nbsp;&nbsp;&nbsp;&nbsp;&nbsp;&nbsp;&nbsp;&nbsp;&nbsp;&nbsp;&nbsp;&nbsp;&nbsp;&nbsp;&nbsp;&nbsp;Homework #1\n",
    "\n",
    "# &nbsp;&nbsp;&nbsp;&nbsp;&nbsp;&nbsp;&nbsp;&nbsp;&nbsp;&nbsp; &nbsp;&nbsp;&nbsp;&nbsp;&nbsp;&nbsp;&nbsp;&nbsp;&nbsp;&nbsp;&nbsp;&nbsp;&nbsp;&nbsp;&nbsp;&nbsp;&nbsp;&nbsp;&nbsp;&nbsp;&nbsp;&nbsp;&nbsp;&nbsp;&nbsp;&nbsp;&nbsp;&nbsp;&nbsp;&nbsp;&nbsp;&nbsp;Planning in MDPs"
   ]
  },
  {
   "cell_type": "markdown",
   "metadata": {},
   "source": [
    "## Description\n",
    "\n",
    "You are given an $N$-sided die, along with a corresponding Boolean mask\n",
    "vector, `is_bad_side` (i.e., a vector of ones and zeros). You can assume\n",
    "that $1<N\\leq30$, and the vector `is_bad_side` is also of size $N$ and\n",
    "$1$ indexed (since there is no $0$ side on the die). The game of DieN is\n",
    "played as follows:\n",
    "\n",
    "1.  You start with $0$ dollars.\n",
    "\n",
    "2.  At any time you have the option to roll the die or to quit the game.\n",
    "\n",
    "    1.  **ROLL**:\n",
    "\n",
    "        1.  If you roll a number not in `is_bad_side`, you receive that\n",
    "            many dollars (e.g., if you roll the number $2$ and $2$ is\n",
    "            not a bad side -- meaning the second element of the vector\n",
    "            `is_bad_side` is $0$, then you receive $2$ dollars). Repeat\n",
    "            step 2.\n",
    "\n",
    "        2.  If you roll a number in `is_bad_side`, then you lose all the\n",
    "            money obtained in previous rolls and the game ends.\n",
    "\n",
    "    2.  **QUIT**:\n",
    "\n",
    "        1.  You keep all the money gained from previous rolls and the\n",
    "            game ends.\n",
    "\n",
    "## Procedure\n",
    "\n",
    "-   You will implement your solution using the `solve()` method\n",
    "    in the code below.\n",
    "    \n",
    "-   Your return value should be the number of dollars you expect to\n",
    "    win for a specific value of `is_bad_side`, if you follow an\n",
    "    optimal policy. That is, what is the value of the optimal\n",
    "    state-value function for the initial state of the game (starting\n",
    "    with $0$ dollars)? Your answer must be correct to $3$ decimal\n",
    "    places, truncated (e.g., 3.14159265 becomes 3.141).\n",
    "\n",
    "-   To solve this problem, you will need to determine an optimal policy\n",
    "    for the game of DieN, given a particular configuration of the die.\n",
    "    As you will see, the action that is optimal will depend on your\n",
    "    current bankroll (i.e., how much money you've won so far).\n",
    "\n",
    "-   You can try solving this problem by creating an MDP of the game\n",
    "    (states, actions, transition function, reward function, and assume a\n",
    "    discount rate of $\\gamma=1$) and then calculating the optimal\n",
    "    state-value function.\n",
    "\n",
    "## Resources\n",
    "\n",
    "The concepts explored in this homework are covered by:\n",
    "\n",
    "-   Lecture Lesson 1: Smoov & Curly's Bogus Journey\n",
    "\n",
    "-   Chapter 3 (3.6 Optimal Policies and Optimal Value Functions) and\n",
    "    Chapter 4 (4.3-4.4 Policy Iteration, Value Iteration) of\n",
    "    http://incompleteideas.net/book/the-book-2nd.html\n",
    "\n",
    "-   Chapters 1-2 of 'Algorithms for Sequential Decision Making', M.\n",
    "    Littman, 1996\n",
    "\n",
    "## Submission\n",
    "\n",
    "-   The due date is indicated on the Canvas page for this assignment.\n",
    "    Make sure you have your timezone in Canvas set to ensure the\n",
    "    deadline is accurate.\n",
    "\n",
    "-   Submit your finished notebook on Gradescope. Your grade is based on\n",
    "    a set of hidden test cases. You will have unlimited submissions -\n",
    "    only the last score is kept.\n",
    "\n",
    "-   Use the template below to implement your code. We have also provided\n",
    "    some test cases for you. If your code passes the given test cases,\n",
    "    it will run (though possibly not pass all the tests) on Gradescope.\n",
    "\n",
    "-   Gradescope is using *python 3.6.x* and *numpy==1.18.0*, and you can\n",
    "    use any core library (i.e., anything in the Python standard library).\n",
    "    No other library can be used.  Also, make sure the name of your\n",
    "    notebook matches the name of the provided notebook.  Gradescope times\n",
    "    out after 10 minutes."
   ]
  },
  {
   "cell_type": "code",
   "execution_count": 123,
   "metadata": {},
   "outputs": [],
   "source": [
    "#################\n",
    "# DO NOT REMOVE\n",
    "# Versions\n",
    "# numpy==1.18.0\n",
    "################\n",
    "import numpy as np\n",
    "from collections import defaultdict\n",
    "class MDPAgent(object):\n",
    "    #you can model the MDP by defining a max run of the games or better you can keep creating state on the go.\n",
    "    #states will keep track of the player's balance so set the rewards properly \n",
    "    def __init__(self):\n",
    "        self.actions = [\"play\",\"quit\"]\n",
    "        \n",
    "    def R(self,s,s_next):\n",
    "        #no need for action here, Transition function will account for it\n",
    "        #action cost nothing by itself, reward depends only on states and next states \n",
    "        if s==\"game_over\" or s_next == \"game_over\" or s==\"lost\": \n",
    "            return 0\n",
    "        elif s_next == \"lost\":\n",
    "            return -s # we lost everything (state == balance)\n",
    "        else: # we were lucky\n",
    "            return s_next - s #rewards = whatever we will have - whatever we have now \n",
    "        \n",
    "    def T(self, s,a,is_bad_side):\n",
    "        '''\n",
    "        given the current state and action, T will return the probability of arriving at a new state. \n",
    "        T creates new states as the game evloves. State is defined as the possible player's balance + loss and end states\n",
    "        '''\n",
    "        if a == \"quit\" or s == \"lost\" or s == \"game_over\":\n",
    "            return {\"game_over\": 1.0} #deterministic \n",
    "        else: #action == \"play\"\n",
    "            N = len(is_bad_side)\n",
    "            p_loss = sum(is_bad_side)/N\n",
    "            #calculate the probability of each state, 1/n for indiviual win\n",
    "            # s+n+1 is the next possible balance from this state, +1 is because index in python starts from 0\n",
    "            T = {s+n+1: 1.0/N for n in range(N) if is_bad_side[n]==0}\n",
    "            #add lost state\n",
    "            T[\"lost\"]=p_loss\n",
    "            \n",
    "            return T\n",
    "        \n",
    "        \n",
    "\n",
    "    def solve(self, is_bad_side,alpha=1.0):\n",
    "        \"\"\"Implement the agent\"\"\"\n",
    "        epsilon=1e-5\n",
    "        V = defaultdict(int) # has to be defualtdict to handle the missing states that will be created by T\n",
    "        V[0] =0 #will start will balance of 0\n",
    "        V[\"lost\"] = 0\n",
    "        V[\"game_over\"] = 0\n",
    "        n = 0\n",
    "        while n <200:\n",
    "            n +=1\n",
    "            V_temp = {}\n",
    "            delta = 0\n",
    "            for s in list(V.keys()):\n",
    "                V_temp[s] =max(sum((self.R(s,s_next)+alpha*V[s_next])*p for s_next, p in self.T(s,a,is_bad_side).items()) for a in self.actions)\n",
    "                \n",
    "                delta = max(delta, abs(V_temp[s] - V[s]))\n",
    "            V.update(V_temp) # updates the dictionary with the elements from another dictionary object or from an iterable of key/value pairs.\n",
    "            if delta < epsilon:\n",
    "                print(n)\n",
    "                return round(V[0],3)\n"
   ]
  },
  {
   "cell_type": "code",
   "execution_count": 124,
   "metadata": {},
   "outputs": [
    {
     "name": "stdout",
     "output_type": "stream",
     "text": [
      "4\n"
     ]
    },
    {
     "data": {
      "text/plain": [
       "2.583"
      ]
     },
     "execution_count": 124,
     "metadata": {},
     "output_type": "execute_result"
    }
   ],
   "source": [
    "mdp = MDPAgent()\n",
    "#mdp.T(\"game_over\",\"quit\",[1, 1, 1, 0, 0, 0])\n",
    "mdp.solve([1, 1, 1, 0, 0, 0])"
   ]
  },
  {
   "cell_type": "markdown",
   "metadata": {},
   "source": [
    "## Test cases\n",
    "\n",
    "We have provided some test cases for you to help verify your implementation."
   ]
  },
  {
   "cell_type": "code",
   "execution_count": 125,
   "metadata": {},
   "outputs": [
    {
     "name": "stderr",
     "output_type": "stream",
     "text": [
      "test_case_1 (__main__.TestDieNNotebook) ... ok\n",
      "test_case_2 (__main__.TestDieNNotebook) ... ok\n",
      "test_case_3 (__main__.TestDieNNotebook) ... "
     ]
    },
    {
     "name": "stdout",
     "output_type": "stream",
     "text": [
      "4\n",
      "6\n",
      "4\n"
     ]
    },
    {
     "name": "stderr",
     "output_type": "stream",
     "text": [
      "ok\n",
      "\n",
      "----------------------------------------------------------------------\n",
      "Ran 3 tests in 0.037s\n",
      "\n",
      "OK\n"
     ]
    },
    {
     "data": {
      "text/plain": [
       "<unittest.main.TestProgram at 0x7fb99704f2e0>"
      ]
     },
     "execution_count": 125,
     "metadata": {},
     "output_type": "execute_result"
    }
   ],
   "source": [
    "## DO NOT MODIFY THIS CODE.  This code will ensure that your submission\n",
    "## will work proberly with the autograder\n",
    "\n",
    "import unittest\n",
    "\n",
    "class TestDieNNotebook(unittest.TestCase):\n",
    "    def test_case_1(self):\n",
    "        agent = MDPAgent()\n",
    "        np.testing.assert_almost_equal(\n",
    "            agent.solve(is_bad_side=[1, 1, 1, 0, 0, 0]),\n",
    "            2.583,\n",
    "            decimal=3\n",
    "        )\n",
    "        \n",
    "    def test_case_2(self):\n",
    "        agent = MDPAgent()\n",
    "        np.testing.assert_almost_equal(\n",
    "            agent.solve(\n",
    "                is_bad_side=[1, 1, 1, 1, 0, 0, 0, 0, 1, 0, 1, 0, 1, 1, 0, 1, 0, 0, 0, 1, 0]\n",
    "            ),\n",
    "            7.379,\n",
    "            decimal=3\n",
    "        )\n",
    "        \n",
    "    def test_case_3(self):\n",
    "        agent = MDPAgent()\n",
    "\n",
    "        np.testing.assert_almost_equal(\n",
    "            agent.solve(\n",
    "                is_bad_side=[1, 1, 1, 1, 1, 1, 0, 1, 0, 1, 1, 0, 1, 0, 1, 0, 0, 1, 0, 0, 1, 0]\n",
    "            ),\n",
    "            6.314,\n",
    "            decimal=3\n",
    "        )\n",
    "\n",
    "unittest.main(argv=[''], verbosity=2, exit=False)"
   ]
  },
  {
   "cell_type": "code",
   "execution_count": null,
   "metadata": {},
   "outputs": [],
   "source": []
  }
 ],
 "metadata": {
  "kernelspec": {
   "display_name": "Python 3 (ipykernel)",
   "language": "python",
   "name": "python3"
  },
  "language_info": {
   "codemirror_mode": {
    "name": "ipython",
    "version": 3
   },
   "file_extension": ".py",
   "mimetype": "text/x-python",
   "name": "python",
   "nbconvert_exporter": "python",
   "pygments_lexer": "ipython3",
   "version": "3.8.8"
  },
  "pycharm": {
   "stem_cell": {
    "cell_type": "raw",
    "metadata": {
     "collapsed": false
    },
    "source": []
   }
  }
 },
 "nbformat": 4,
 "nbformat_minor": 1
}
