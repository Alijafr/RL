{
 "cells": [
  {
   "cell_type": "markdown",
   "metadata": {
    "collapsed": true,
    "pycharm": {
     "name": "#%% md\n"
    }
   },
   "source": [
    "##### Reinforcement Learning and Decision Making &nbsp;&nbsp;&nbsp;&nbsp;&nbsp;&nbsp;&nbsp;&nbsp;&nbsp;&nbsp; &nbsp;&nbsp;&nbsp;&nbsp;&nbsp;&nbsp;&nbsp;&nbsp;&nbsp;&nbsp;&nbsp;&nbsp;&nbsp;&nbsp;&nbsp;&nbsp;&nbsp;&nbsp;&nbsp;&nbsp;&nbsp;&nbsp;&nbsp;&nbsp;&nbsp;&nbsp;&nbsp;&nbsp;&nbsp;&nbsp;&nbsp;&nbsp;&nbsp;&nbsp;&nbsp;&nbsp;&nbsp;&nbsp;&nbsp;&nbsp;&nbsp;&nbsp;&nbsp;&nbsp;&nbsp;&nbsp;&nbsp;&nbsp;&nbsp;&nbsp;&nbsp;&nbsp;&nbsp;&nbsp;&nbsp;&nbsp;&nbsp;&nbsp;&nbsp;&nbsp;&nbsp;&nbsp;&nbsp;&nbsp;&nbsp;&nbsp;&nbsp;&nbsp;&nbsp;&nbsp;&nbsp;&nbsp;&nbsp;&nbsp;&nbsp;&nbsp;&nbsp;&nbsp;&nbsp;Homework #5\n",
    "\n",
    "# &nbsp;&nbsp;&nbsp;&nbsp;&nbsp;&nbsp;&nbsp;&nbsp;&nbsp;&nbsp; &nbsp;&nbsp;&nbsp;&nbsp;&nbsp;&nbsp;&nbsp;&nbsp;&nbsp;&nbsp;&nbsp;&nbsp;&nbsp;&nbsp;&nbsp;&nbsp;&nbsp;&nbsp;&nbsp;&nbsp;&nbsp;&nbsp;&nbsp;&nbsp;&nbsp;&nbsp;&nbsp;&nbsp;&nbsp;&nbsp;&nbsp;&nbsp;&nbsp;&nbsp;&nbsp;&nbsp;&nbsp;&nbsp;&nbsp;&nbsp;Bar Brawl"
   ]
  },
  {
   "cell_type": "markdown",
   "metadata": {},
   "source": [
    "## Description\n",
    "\n",
    "You are the proprietor of an establishment that sells beverages of an unspecified, but delicious, nature. The establishment is frequented by a set $P$ of patrons.  One of the patrons is the instigator and another is the peacemaker.\n",
    "\n",
    "On any given evening, a subset $S \\subseteq P$ is present at the establishment. If the instigator is in $S$ but the peacemaker is not in $S$, then a fight will break out. If the instigator is not in $S$ or if the peacemaker is in $S$, then no fight will occur.\n",
    "\n",
    "Your goal is to learn to predict whether a fight will break out among the subset of\n",
    "patrons present on a given evening, without initially knowing the identity of\n",
    "the instigator or the peacemaker.\n",
    "\n",
    "## Procedure\n",
    "\n",
    "Develop a KWIK learner for this problem (see Li, Littman, and Walsh 2008).  Your learner will be presented with $S$, the patrons at the establishment, and the outcome (fight or no fight) of that evening.\n",
    "Your learner will attempt to predict whether a fight will break out, or indicate that\n",
    "it doesn't know, and should be capable of learning from the true outcome for the evening.\n",
    "\n",
    "For each problem, the following input will be given:\n",
    "\n",
    "-   `at_establishment`: a Boolean two-dimensional array whose rows\n",
    "    represent distinct evenings and whose columns represent distinct patrons.\n",
    "    Each entry specifies if a particular patron is present\n",
    "    at the establishment on a particular evening:\n",
    "    a $1$ means present and a $0$ means absent.\n",
    "    \n",
    "-   `fight_occurred`: a Boolean vector whose entries are the \n",
    "    outcomes (a $1$ means ``FIGHT`` and a $0$ means ``NO FIGHT``) for that\n",
    "    particular evening.\n",
    "\n",
    "\n",
    "Specifically:\n",
    "\n",
    "-   For each episode (evening), you should present your learner with the next row of `at_establishment` and the corresponding row of `fight_occurred`.\n",
    "-   If your learner returns a $1$ (for ``FIGHT``) or a $0$ (for ``NO FIGHT``),\n",
    "    you may continue on to the next episode.\n",
    "-   If your learner returns a $2$ (for ``I DON’T KNOW``), then you should\n",
    "    present the pair (`at_establishment`, `fight_occurred`) to you learner\n",
    "    to learn from.\n",
    "\n",
    "You will return a string of integers corresponding to the returned values of each episode.\n",
    "\n",
    "The test case will be considered successful if no wrong answers are returned\n",
    "**and** the number of \"I DON'T KNOW\"s does not exceed the maximum \n",
    "allowed by the autograder.\n",
    "\n",
    "## Resources\n",
    "\n",
    "The concepts explored in this homework are covered by:\n",
    "\n",
    "-   'Knows what it knows: A framework for self-aware learning', Li, Littman, Walsh 2008\n",
    "\n",
    "## Submission\n",
    "\n",
    "-   The due date is indicated on the Canvas page for this assignment.\n",
    "    Make sure you have your timezone in Canvas set to ensure the\n",
    "    deadline is accurate.\n",
    "\n",
    "-   Submit your finished notebook on Gradescope. Your grade is based on\n",
    "    a set of hidden test cases. You will have unlimited submissions.\n",
    "    By default, the last score is kept.  You can also set a particular\n",
    "    submission as active in the submission history, in which case that\n",
    "    submission will determine your grade.\n",
    "\n",
    "-   Use the template below to implement your code. We have also provided\n",
    "    some test cases for you. If your code passes the given test cases,\n",
    "    it will run (though possibly not pass all the tests) on Gradescope.\n",
    "\n",
    "-   Gradescope is using *python 3.6.x* and *numpy==1.18.0*, and you can\n",
    "    use any core library (i.e., anything in the Python standard library).\n",
    "    No other library can be used.  Also, make sure the name of your\n",
    "    notebook matches the name of the provided notebook.  Gradescope times\n",
    "    out after 10 minutes."
   ]
  },
  {
   "cell_type": "code",
   "execution_count": 29,
   "metadata": {},
   "outputs": [],
   "source": [
    "################\n",
    "# DO NOT REMOVE\n",
    "# Versions\n",
    "# numpy==1.18.0\n",
    "################\n",
    "import numpy as np\n",
    "from collections import defaultdict\n",
    "\n",
    "class Agent(object):\n",
    "    def __init__(self):\n",
    "        pass\n",
    "    \n",
    "    def predict_hpyothesis(self,attendees, hypothesis):\n",
    "        instigator = hypothesis[0]\n",
    "        pecemaker = hypothesis[1]\n",
    "        if attendees[pecemaker] == 1: #the peacemaker present\n",
    "            return 0 #no fight \n",
    "        #the pecemaker is not present but the instigator is\n",
    "        elif attendees[instigator] == 1:\n",
    "            return 1\n",
    "        #both not present (even better)\n",
    "        else:\n",
    "            return 0\n",
    "    def solve(self, at_establishment, fight_occurred):\n",
    "        '''\n",
    "            -Create a list of possible hypothesis and remove whatever conflict with the real output.\n",
    "            -The predicition will based on voting of all remaining hypothesis.\n",
    "            -If all of them agree on one decision, the prediction is made, otherwise, it is 'i don't know'\n",
    "        '''\n",
    "        num_attendees = len(at_establishment[0])\n",
    "        num_prediciotns = len(at_establishment)\n",
    "        predictions = np.zeros(num_prediciotns,dtype=int)\n",
    "        #assuming the first element is the Instigator , and the second is the pacemaker  \n",
    "        possible_hypotheses = [(i,j) for i in range(num_attendees) for j in range(num_attendees) if i!=j]\n",
    "        for i, attendees in enumerate(at_establishment):\n",
    "            #based on the possible hypotheses \n",
    "            votes = [self.predict_hpyothesis(attendees,hypothesis) for hypothesis in possible_hypotheses]\n",
    "            if len(set(votes)) == 1: #they all agree\n",
    "                predictions[i] = votes[0]\n",
    "            else:\n",
    "                #they are not sure\n",
    "                predictions[i] = 2\n",
    "            \n",
    "            #not update the possible hypotheses, save the hypotheses that agrees with real outcome \n",
    "            new_possible_hypotheses_indices  = np.where(np.array(votes)==fight_occurred[i])[0]\n",
    "            possible_hypotheses = [possible_hypotheses[idx] for idx in new_possible_hypotheses_indices]\n",
    "                \n",
    "        \n",
    "        #convert to string \n",
    "        pred = ''\n",
    "        for i in range(len(predictions)):\n",
    "            pred += str(predictions[i])\n",
    "            \n",
    "        return pred"
   ]
  },
  {
   "cell_type": "code",
   "execution_count": 30,
   "metadata": {},
   "outputs": [
    {
     "name": "stdout",
     "output_type": "stream",
     "text": [
      "[(0, 1)]\n"
     ]
    },
    {
     "data": {
      "text/plain": [
       "'0200010'"
      ]
     },
     "execution_count": 30,
     "metadata": {},
     "output_type": "execute_result"
    }
   ],
   "source": [
    "agent = Agent()\n",
    "et = [[1,1], [1,0], [0,1], [1,1], [0,0], [1,0], [1,1]]\n",
    "out = [0, 1, 0, 0, 0, 1, 0]\n",
    "agent.solve(et,out)"
   ]
  },
  {
   "cell_type": "code",
   "execution_count": 31,
   "metadata": {
    "tags": []
   },
   "outputs": [
    {
     "name": "stderr",
     "output_type": "stream",
     "text": [
      "test_case_1 (__main__.TestBarBrawl) ... ok\n",
      "test_case_2 (__main__.TestBarBrawl) ... ok\n",
      "test_case_3 (__main__.TestBarBrawl) ... ok\n",
      "\n",
      "----------------------------------------------------------------------\n",
      "Ran 3 tests in 0.024s\n",
      "\n",
      "OK\n"
     ]
    },
    {
     "name": "stdout",
     "output_type": "stream",
     "text": [
      "[(0, 1)]\n",
      "[(2, 1)]\n",
      "[(0, 2), (1, 2)]\n"
     ]
    },
    {
     "data": {
      "text/plain": [
       "<unittest.main.TestProgram at 0x7f85ac5a96a0>"
      ]
     },
     "execution_count": 31,
     "metadata": {},
     "output_type": "execute_result"
    }
   ],
   "source": [
    "\n",
    "## DO NOT MODIFY THIS CODE.  This code will ensure that you submission is correct \n",
    "## and will work proberly with the autograder\n",
    "\n",
    "import unittest\n",
    "\n",
    "\n",
    "class TestBarBrawl(unittest.TestCase):\n",
    "    @classmethod\n",
    "    def setUpClass(cls):\n",
    "        cls.agent = Agent()\n",
    "\n",
    "    def test_case_1(self):\n",
    "        np.testing.assert_equal(\n",
    "            self.agent.solve(\n",
    "                [[1,1], [1,0], [0,1], [1,1], [0,0], [1,0], [1,1]],\n",
    "                [0, 1, 0, 0, 0, 1, 0]\n",
    "            ),\n",
    "            '0200010'\n",
    "        )\n",
    "\n",
    "    def test_case_2(self):\n",
    "        np.testing.assert_equal(\n",
    "             self.agent.solve(\n",
    "                [[1,0,0,0],[0,1,0,0],[0,1,1,1],[0,1,1,1],[0,1,1,1],[0,0,0,1],[1,1,1,1],[1,1,1,1],[1,1,1,1],[1,1,1,1],[0,1,1,1],[1,1,1,1],[0,1,1,1],[0,1,1,1],[1,1,1,1],[0,1,1,1],[0,1,1,1],[1,1,1,1],[0,1,1,1],[0,1,1,1],[0,0,0,1],[0,0,0,1],[1,1,1,1],[0,1,1,1],[0,1,1,1],[0,0,1,1],[0,1,1,1],[0,0,0,1],[0,0,1,1],[0,1,1,1],[0,0,1,1],[1,1,1,1]],\n",
    "                [0,0,0,0,0,0,0,0,0,0,0,0,0,0,0,0,0,0,0,0,0,0,0,0,0,1,0,0,1,0,1,0]\n",
    "            ),\n",
    "            '22200200000000000000000002001010'\n",
    "        )\n",
    "\n",
    "    def test_case_3(self):\n",
    "        np.testing.assert_equal(\n",
    "             self.agent.solve(\n",
    "                [[1,0,1],[1,0,1],[1,1,1],[1,1,1],[1,1,1],[0,1,1],[0,0,1],[0,1,1],[1,1,1],[1,1,1],[1,1,1],[1,1,1],[0,1,1],[1,0,1],[1,1,1],[1,0,1],[1,0,1],[1,1,1]],\n",
    "                [0,0,0,0,0,0,0,0,0,0,0,0,0,0,0,0,0,0]\n",
    "            ),\n",
    "            '200002000000000000'\n",
    "        )\n",
    "        \n",
    "unittest.main(argv=[''], verbosity=2, exit=False)"
   ]
  },
  {
   "cell_type": "code",
   "execution_count": null,
   "metadata": {},
   "outputs": [],
   "source": []
  }
 ],
 "metadata": {
  "kernelspec": {
   "display_name": "Python 3",
   "language": "python",
   "name": "python3"
  },
  "language_info": {
   "codemirror_mode": {
    "name": "ipython",
    "version": 3
   },
   "file_extension": ".py",
   "mimetype": "text/x-python",
   "name": "python",
   "nbconvert_exporter": "python",
   "pygments_lexer": "ipython3",
   "version": "3.9.12"
  },
  "pycharm": {
   "stem_cell": {
    "cell_type": "raw",
    "metadata": {
     "collapsed": false
    },
    "source": []
   }
  }
 },
 "nbformat": 4,
 "nbformat_minor": 1
}
