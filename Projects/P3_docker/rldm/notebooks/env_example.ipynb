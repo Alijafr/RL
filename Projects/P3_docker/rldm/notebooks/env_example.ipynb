{
 "cells": [
  {
   "cell_type": "code",
   "execution_count": 2,
   "id": "a64420dc",
   "metadata": {},
   "outputs": [],
   "source": [
    "from rldm.utils import football_tools\n"
   ]
  },
  {
   "cell_type": "code",
   "execution_count": 3,
   "id": "05aa673d",
   "metadata": {},
   "outputs": [],
   "source": [
    "env = football_tools.RllibGFootball('3_vs_3_auto_GK')"
   ]
  },
  {
   "cell_type": "code",
   "execution_count": 4,
   "id": "b9336130",
   "metadata": {},
   "outputs": [
    {
     "data": {
      "text/plain": [
       "'3_vs_3_auto_GK'"
      ]
     },
     "execution_count": 4,
     "metadata": {},
     "output_type": "execute_result"
    }
   ],
   "source": [
    "football_tools.n_players_to_env_name(3, True)"
   ]
  },
  {
   "cell_type": "code",
   "execution_count": 112,
   "id": "88ac8aa4",
   "metadata": {},
   "outputs": [
    {
     "name": "stdout",
     "output_type": "stream",
     "text": [
      "15\n",
      "Episode 0 completed.\n",
      "Rewards:\n",
      "\tplayer_0: 0.0\n",
      "\tplayer_1: 0.10000000149011612\n",
      "\ttotal: 0.10000000149011612\n",
      "\n"
     ]
    }
   ],
   "source": [
    "#def rollout(num_episodes:int):\n",
    "num_episodes =1\n",
    "env = football_tools.RllibGFootball('3_vs_3_auto_GK')\n",
    "\n",
    "for i in range(num_episodes):\n",
    "    observations = env.reset()\n",
    "#         print(observations['player_0'][36:])\n",
    "#         print(observations['player_1'][36:])\n",
    "    done, ep_reward = False, {a: 0 for a in observations}\n",
    "    once = False\n",
    "    while not done:\n",
    "        random_actions = {a: env.action_space[a].sample() for a in env.action_space}\n",
    "        observations, rewards, dones, infos = env.step(random_actions)\n",
    "        if not once:\n",
    "            #print(infos['player_0']['action'])\n",
    "            once = True\n",
    "        #print(observations['player_0'][36:])\n",
    "        #print(observations['player_1'][36:])\n",
    "        ep_reward = {a: ep_reward[a] + rewards[a] for a in rewards}\n",
    "        done = dones['__all__']\n",
    "    print(f\"Episode {i} completed.\")\n",
    "    print(\"Rewards:\")\n",
    "    for a, ep_r in ep_reward.items():\n",
    "        print(f\"\\t{a}: {ep_r}\")\n",
    "    print(f\"\\ttotal: {sum(ep_reward.values())}\\n\")"
   ]
  },
  {
   "cell_type": "code",
   "execution_count": 81,
   "id": "43a1aac5",
   "metadata": {},
   "outputs": [],
   "source": [
    "# rollout(1)"
   ]
  },
  {
   "cell_type": "code",
   "execution_count": 88,
   "id": "1d527ab0",
   "metadata": {},
   "outputs": [
    {
     "data": {
      "text/plain": [
       "True"
      ]
     },
     "execution_count": 88,
     "metadata": {},
     "output_type": "execute_result"
    }
   ],
   "source": [
    "'ball_owned_team' not in infos['player_0']"
   ]
  },
  {
   "cell_type": "code",
   "execution_count": 101,
   "id": "ebe46223",
   "metadata": {},
   "outputs": [
    {
     "data": {
      "text/plain": [
       "0.99"
      ]
     },
     "execution_count": 101,
     "metadata": {},
     "output_type": "execute_result"
    }
   ],
   "source": [
    "(0.99 - 0.8 / (10 - 1) *0)"
   ]
  },
  {
   "cell_type": "code",
   "execution_count": 109,
   "id": "cff9eb82",
   "metadata": {},
   "outputs": [
    {
     "data": {
      "text/plain": [
       "0.8246211251235323"
      ]
     },
     "execution_count": 109,
     "metadata": {},
     "output_type": "execute_result"
    }
   ],
   "source": [
    "(0.8**2 + 0.2 **2)**0.5"
   ]
  },
  {
   "cell_type": "code",
   "execution_count": null,
   "id": "755948f6",
   "metadata": {},
   "outputs": [],
   "source": [
    "0.922\n",
    "0.825\n"
   ]
  }
 ],
 "metadata": {
  "kernelspec": {
   "display_name": "Python 3 (ipykernel)",
   "language": "python",
   "name": "python3"
  },
  "language_info": {
   "codemirror_mode": {
    "name": "ipython",
    "version": 3
   },
   "file_extension": ".py",
   "mimetype": "text/x-python",
   "name": "python",
   "nbconvert_exporter": "python",
   "pygments_lexer": "ipython3",
   "version": "3.7.12"
  }
 },
 "nbformat": 4,
 "nbformat_minor": 5
}
