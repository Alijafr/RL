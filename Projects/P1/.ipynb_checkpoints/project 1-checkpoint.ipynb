{
 "cells": [
  {
   "cell_type": "markdown",
   "id": "6138709a",
   "metadata": {},
   "source": [
    "# Random Walks \n",
    "## Generate sequences\n",
    "![Random walk](random_walk.png)"
   ]
  },
  {
   "cell_type": "code",
   "execution_count": 22,
   "id": "01d46db3",
   "metadata": {},
   "outputs": [],
   "source": [
    "import numpy as np\n",
    "np.random.seed(1)"
   ]
  },
  {
   "cell_type": "code",
   "execution_count": 23,
   "id": "d735249e",
   "metadata": {},
   "outputs": [
    {
     "data": {
      "text/plain": [
       "(['D', 'C', 'D', 'C', 'B', 'A'], [3, 2, 3, 2, 1, 0])"
      ]
     },
     "execution_count": 23,
     "metadata": {},
     "output_type": "execute_result"
    }
   ],
   "source": [
    "def generate_sequence():\n",
    "    walk_dict = {0:'A',1:'B',2:'C',3:'D',4:'E',5:'F',6:'G'}\n",
    "    sequence_num = [3]\n",
    "    sequence_states = ['D']\n",
    "    curr_pos = 3\n",
    "    while curr_pos != 0 and curr_pos !=6:\n",
    "        if np.random.rand() >0.5:\n",
    "            curr_pos +=1\n",
    "        else:\n",
    "            curr_pos -=1\n",
    "        sequence_num.append(curr_pos)\n",
    "        sequence_states.append(walk_dict[curr_pos])\n",
    "    return sequence_states,sequence_num\n",
    "        \n",
    "#test \n",
    "generate_sequence()"
   ]
  },
  {
   "cell_type": "markdown",
   "id": "688dd04a",
   "metadata": {},
   "source": [
    "## TD(Lmada)"
   ]
  },
  {
   "cell_type": "code",
   "execution_count": 24,
   "id": "10af56cc",
   "metadata": {},
   "outputs": [],
   "source": [
    "def x(curr_pos,n):\n",
    "    xt = np.zeros(n)\n",
    "    xt[curr_pos]=1\n",
    "    return xt\n",
    "def dw(seq,w,lm,alpha):\n",
    "    n = len(w)\n",
    "    et = np.zeros(n)\n",
    "    dw = np.zeros(n)\n",
    "    for t in range(0,len(seq)-1): #leave the last w unchanged (terminating states)\n",
    "        P_t1 = np.dot(w,x(seq[t+1],n))\n",
    "        P_t = np.dot(w,x(seq[t],n))\n",
    "        et = x(seq[t],n) + lm*et\n",
    "        dw += alpha*(P_t1-P_t)*et\n",
    "    \n",
    "    return dw        "
   ]
  },
  {
   "cell_type": "code",
   "execution_count": 25,
   "id": "605daa2f",
   "metadata": {},
   "outputs": [
    {
     "data": {
      "text/plain": [
       "0.3923878871324318"
      ]
     },
     "execution_count": 25,
     "metadata": {},
     "output_type": "execute_result"
    }
   ],
   "source": [
    "def error_rms(w):\n",
    "    w_true = np.array([0,1/6,1/3,1/2,2/3,5/6,1.0])\n",
    "    return np.sqrt(np.mean((w-w_true)**2))\n",
    "#test \n",
    "w = np.array([0,0.1,0.1,0.1,0.1,0.1,1.0])\n",
    "error_rms(w)"
   ]
  },
  {
   "cell_type": "code",
   "execution_count": 26,
   "id": "67e14c40",
   "metadata": {},
   "outputs": [
    {
     "data": {
      "text/plain": [
       "array([0., 0., 0., 1., 0., 0., 0.])"
      ]
     },
     "execution_count": 26,
     "metadata": {},
     "output_type": "execute_result"
    }
   ],
   "source": [
    "x(3,7)"
   ]
  },
  {
   "cell_type": "markdown",
   "id": "cd04128e",
   "metadata": {},
   "source": [
    "## Test TD($\\lambda$)"
   ]
  },
  {
   "cell_type": "code",
   "execution_count": 27,
   "id": "6a0bb4dc",
   "metadata": {},
   "outputs": [
    {
     "data": {
      "text/plain": [
       "(array([0.        , 0.11535801, 0.27267915, 0.48750516, 0.63664301,\n",
       "        0.65002252, 1.        ]),\n",
       " 0.07650574497519909)"
      ]
     },
     "execution_count": 27,
     "metadata": {},
     "output_type": "execute_result"
    }
   ],
   "source": [
    "seqs = [generate_sequence()[1] for i in range(100)]\n",
    "for i in range(1000):\n",
    "    w = np.array([0,0.2,0.2,0.2,0.2,0.2,1])\n",
    "    for seq in seqs:\n",
    "        w += dw(seq,w, 0.4, 0.2)\n",
    "w,error_rms(w)"
   ]
  },
  {
   "cell_type": "code",
   "execution_count": 57,
   "id": "00c28606",
   "metadata": {},
   "outputs": [],
   "source": [
    "datasets = [[generate_sequence()[1] for i in range(5)] for j in range(100)]"
   ]
  },
  {
   "cell_type": "markdown",
   "id": "64dec00e",
   "metadata": {},
   "source": [
    "## Experiement 1"
   ]
  },
  {
   "cell_type": "code",
   "execution_count": 58,
   "id": "c509f269",
   "metadata": {},
   "outputs": [],
   "source": [
    "def experiment_1(datasets,epsilon = 1e-3):\n",
    "    lms = [0,0.1,0.3,0.5,0.7,0.9,1.0]\n",
    "    alpha = 0.01\n",
    "    #datasets = [[generate_sequence()[1] for i in range(10)] for j in range(100)]\n",
    "    errors_lms = np.zeros(len(lms))\n",
    "    for j,lm in enumerate(lms):\n",
    "        #print(\"iteration for lamda: \",lm)    \n",
    "        errors_datasets = np.zeros(len(datasets))\n",
    "        for m,dataset in enumerate(datasets):\n",
    "            #print(\"dataset {} started \".format(m))\n",
    "            w = np.array([0,0.5,0.5,0.5,0.5,0.5,1]) \n",
    "            while True:\n",
    "                dw_sum = 0\n",
    "                for seq in dataset:\n",
    "                    change =dw(seq,w,lm,alpha)\n",
    "                    dw_sum += change\n",
    "                if max(abs(dw_sum)) < epsilon:\n",
    "                    break\n",
    "                w += dw_sum\n",
    "            errors_datasets[m] = error_rms(w)\n",
    "        errors_lms[j] = np.mean(errors_datasets)\n",
    "    return errors_lms, lms\n",
    "exp1_errors, exp1_lm =experiment_1(datasets)"
   ]
  },
  {
   "cell_type": "code",
   "execution_count": 59,
   "id": "f6951cae",
   "metadata": {},
   "outputs": [
    {
     "data": {
      "image/png": "[encoded data removed]",
      "text/plain": [
       "<Figure size 432x288 with 1 Axes>"
      ]
     },
     "metadata": {
      "needs_background": "light"
     },
     "output_type": "display_data"
    }
   ],
   "source": [
    "from matplotlib import pyplot as plt\n",
    "%matplotlib inline\n",
    "plt.plot(exp1_lm,exp1_errors,'.-')\n",
    "plt.xlabel('λ')\n",
    "plt.ylabel('Error')\n",
    "plt.grid()\n",
    "plt.savefig(\"Figure3.pdf\", format=\"pdf\", bbox_inches=\"tight\")\n",
    "plt.show()"
   ]
  },
  {
   "cell_type": "markdown",
   "id": "2b7902e2",
   "metadata": {},
   "source": [
    "## Experiement 2"
   ]
  },
  {
   "cell_type": "code",
   "execution_count": 60,
   "id": "aa8cbb2d",
   "metadata": {},
   "outputs": [],
   "source": [
    "def experiment_2(datasets,epsilon = 1e-3):\n",
    "    lms = [0,0.3,0.8,1.0]\n",
    "    alphas = [0.0,0.05,0.1,0.15,0.2,0.25,0.3,0.35,0.4,0.45,0.5,0.55,0.6]\n",
    "    datasets = [[generate_sequence()[1] for i in range(5)] for j in range(100)]\n",
    "    \n",
    "    errors_lms = np.zeros((len(lms),len(alphas)))\n",
    "    for j,lm in enumerate(lms):\n",
    "        #print(\"iteration for lamda: \",lm)\n",
    "        for n,alpha in enumerate(alphas):\n",
    "            #print(\"iteration for alpha: \",alpha)\n",
    "            errors_datasets = np.zeros(len(datasets))\n",
    "            for m,dataset in enumerate(datasets):\n",
    "                #print(\"dataset {} started \".format(m))\n",
    "                w = np.array([0,0.5,0.5,0.5,0.5,0.5,1])\n",
    "                for seq in dataset:\n",
    "                    w += dw(seq,w,lm,alpha)\n",
    "                errors_datasets[m] = error_rms(w)\n",
    "                #print(\"dataset error: \",errors_datasets[m])\n",
    "            mean_error = np.mean(errors_datasets)\n",
    "            errors_lms[j,n] = mean_error\n",
    "    \n",
    "    return errors_lms, alphas\n",
    "exp2_errors, exp2_alpha =experiment_2(datasets)"
   ]
  },
  {
   "cell_type": "code",
   "execution_count": 61,
   "id": "d6a03e47",
   "metadata": {},
   "outputs": [
    {
     "data": {
      "image/png": "[encoded data removed]",
      "text/plain": [
       "<Figure size 432x288 with 1 Axes>"
      ]
     },
     "metadata": {
      "needs_background": "light"
     },
     "output_type": "display_data"
    }
   ],
   "source": [
    "lms = np.array([0,0.3,0.8,1.0])\n",
    "for i,alpha in enumerate(lms):\n",
    "    if lms[i]== 1.0:\n",
    "        plt.plot(exp2_alpha[:9],exp2_errors[i,:9],'.-',label=\"$\\lambda$ = {}\".format(lms[i]))\n",
    "    else:\n",
    "        plt.plot(exp2_alpha,exp2_errors[i],'.-',label=\"$\\lambda$ = {}\".format(lms[i]))\n",
    "plt.legend()\n",
    "plt.xlabel('α')\n",
    "plt.grid()\n",
    "plt.ylabel('Error')\n",
    "plt.savefig(\"Figure4.pdf\", format=\"pdf\", bbox_inches=\"tight\")\n"
   ]
  },
  {
   "cell_type": "code",
   "execution_count": 62,
   "id": "1d8c381a",
   "metadata": {},
   "outputs": [],
   "source": [
    "def experiment_3(datasets,epsilon = 1e-4):\n",
    "    lms = [0,0.1,0.2,0.3,0.4,0.5,0.6,0.7,0.8,0.9,1.0]\n",
    "    alphas = [0.0,0.05,0.1,0.15,0.2,0.25,0.3,0.35,0.4,0.45,0.5,0.55,0.6]\n",
    "    #datasets = [[generate_sequence()[1] for i in range(5)] for j in range(100)]\n",
    "    \n",
    "    errors_lms = np.zeros(len(lms))\n",
    "    for j,lm in enumerate(lms):\n",
    "        #print(\"iteration for lamda: \",lm)\n",
    "        min_error = float('inf') #to find min alpha \n",
    "        for alpha in alphas:\n",
    "            #print(\"iteration for alpha: \",alpha)\n",
    "            errors_datasets = np.zeros(len(datasets))\n",
    "            for m,dataset in enumerate(datasets):\n",
    "                #print(\"dataset {} started \".format(m))\n",
    "                w = np.array([0,0.5,0.5,0.5,0.5,0.5,1]) \n",
    "                for seq in dataset:\n",
    "                    w += dw(seq,w,lm,alpha)\n",
    "                errors_datasets[m] = error_rms(w)\n",
    "                #print(\"dataset error: \",errors_datasets[m])\n",
    "            mean_error = np.mean(errors_datasets)\n",
    "            if mean_error < min_error:\n",
    "                min_error = mean_error\n",
    "        errors_lms[j] = min_error\n",
    "    \n",
    "    return errors_lms, lms\n",
    "exp3_errors, exp3_lm =experiment_3(datasets)"
   ]
  },
  {
   "cell_type": "code",
   "execution_count": 65,
   "id": "6ed616ca",
   "metadata": {},
   "outputs": [
    {
     "data": {
      "image/png": "[encoded data removed]",
      "text/plain": [
       "<Figure size 432x288 with 1 Axes>"
      ]
     },
     "metadata": {
      "needs_background": "light"
     },
     "output_type": "display_data"
    }
   ],
   "source": [
    "plt.plot(exp3_lm,exp3_errors,'.-')\n",
    "plt.xlabel('λ')\n",
    "plt.grid()\n",
    "plt.ylabel('Error using the best α')\n",
    "plt.savefig(\"Figure5.pdf\", format=\"pdf\", bbox_inches=\"tight\")\n",
    "plt.show()"
   ]
  },
  {
   "cell_type": "code",
   "execution_count": null,
   "id": "ca6de5cd",
   "metadata": {},
   "outputs": [],
   "source": []
  }
 ],
 "metadata": {
  "kernelspec": {
   "display_name": "Python 3 (ipykernel)",
   "language": "python",
   "name": "python3"
  },
  "language_info": {
   "codemirror_mode": {
    "name": "ipython",
    "version": 3
   },
   "file_extension": ".py",
   "mimetype": "text/x-python",
   "name": "python",
   "nbconvert_exporter": "python",
   "pygments_lexer": "ipython3",
   "version": "3.7.11"
  }
 },
 "nbformat": 4,
 "nbformat_minor": 5
}
