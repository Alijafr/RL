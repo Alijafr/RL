{
 "cells": [
  {
   "cell_type": "code",
   "execution_count": 1,
   "id": "cb51a357",
   "metadata": {},
   "outputs": [],
   "source": [
    "from collections import deque, namedtuple\n",
    "from random import sample\n",
    "import numpy as np\n",
    "import gym \n",
    "import torch\n",
    "import torch.nn as nn\n",
    "import torch.nn.functional as F\n",
    "from matplotlib import pyplot as plt "
   ]
  },
  {
   "cell_type": "code",
   "execution_count": 2,
   "id": "fc21110e",
   "metadata": {},
   "outputs": [
    {
     "name": "stderr",
     "output_type": "stream",
     "text": [
      "C:\\Users\\Labuser\\miniconda3\\envs\\rl_env\\lib\\site-packages\\gym\\utils\\passive_env_checker.py:97: UserWarning: \u001b[33mWARN: We recommend you to use a symmetric and normalized Box action space (range=[-1, 1]) https://stable-baselines3.readthedocs.io/en/master/guide/rl_tips.html\u001b[0m\n",
      "  logger.warn(\n"
     ]
    }
   ],
   "source": [
    "env = gym.make('LunarLander-v2')"
   ]
  },
  {
   "cell_type": "code",
   "execution_count": 3,
   "id": "d16c73f7",
   "metadata": {},
   "outputs": [
    {
     "name": "stdout",
     "output_type": "stream",
     "text": [
      "The episode total rewards is  -135.17469718325276\n",
      "The episode total rewards is  -116.7741200625006\n",
      "The episode total rewards is  -265.583606382973\n"
     ]
    }
   ],
   "source": [
    "num_episodes = 3\n",
    "for i in range(num_episodes):\n",
    "    state = env.reset()\n",
    "    Done = False\n",
    "    total_rewards = 0\n",
    "    \n",
    "    while not Done: \n",
    "        #take a random action\n",
    "        action = env.action_space.sample()\n",
    "        #implement the action \n",
    "        next_state, reward, Done, info = env.step(action)\n",
    "        #sum the rewards\n",
    "        total_rewards += reward\n",
    "        #render the env\n",
    "        env.render()\n",
    "    print(\"The episode total rewards is \", total_rewards)\n",
    "\n",
    "env.close()"
   ]
  },
  {
   "cell_type": "code",
   "execution_count": 51,
   "id": "15bf757c",
   "metadata": {},
   "outputs": [
    {
     "data": {
      "text/plain": [
       "array([-5.8755872e-04,  1.4036485e+00, -5.9532933e-02, -3.2317889e-01,\n",
       "        6.8766251e-04,  1.3485086e-02,  0.0000000e+00,  0.0000000e+00],\n",
       "      dtype=float32)"
      ]
     },
     "execution_count": 51,
     "metadata": {},
     "output_type": "execute_result"
    }
   ],
   "source": [
    "state = env.reset()\n",
    "state"
   ]
  },
  {
   "cell_type": "code",
   "execution_count": 4,
   "id": "e584f2e6",
   "metadata": {},
   "outputs": [],
   "source": [
    "class Deep_Q_Network(nn.Module):\n",
    "    def __init__(self,num_states,num_actions):\n",
    "        super(Deep_Q_Network,self).__init__()\n",
    "        self.fc1 = nn.Linear(num_states,200)\n",
    "        self.fc2 = nn.Linear(200,300)\n",
    "        self.fc3 = nn.Linear(300,num_actions)\n",
    "    \n",
    "    def forward(self,states):\n",
    "        x = F.relu(self.fc1(states))\n",
    "        x = F.relu(self.fc2(x))\n",
    "        x = self.fc3(x)\n",
    "        \n",
    "        return x"
   ]
  },
  {
   "cell_type": "code",
   "execution_count": 85,
   "id": "a4f753be",
   "metadata": {},
   "outputs": [
    {
     "data": {
      "text/plain": [
       "tensor(0.0241, grad_fn=<MaxBackward1>)"
      ]
     },
     "execution_count": 85,
     "metadata": {},
     "output_type": "execute_result"
    }
   ],
   "source": [
    "model = Deep_Q_Network(8,4)\n",
    "device = torch.device(\"cuda\" if torch.cuda.is_available() else \"cpu\")\n",
    "states = env.reset()\n",
    "states = torch.from_numpy(states[np.newaxis,:]).to(device)\n",
    "model(states).max()"
   ]
  },
  {
   "cell_type": "code",
   "execution_count": 5,
   "id": "7a2ee255",
   "metadata": {},
   "outputs": [],
   "source": [
    "class MemoryReplay:\n",
    "    def __init__(self, max_size):\n",
    "        self.states = []\n",
    "        self.actions = []\n",
    "        self.rewards = []\n",
    "        self.next_states = []\n",
    "        self.Dones = []\n",
    "        self.max_size = max_size\n",
    "        self.idx = 0\n",
    "        self.size = 0\n",
    "\n",
    "    def append(self, state,action, reward,next_state,Done):\n",
    "        #first in, first out \n",
    "        if self.idx <= self.max_size:\n",
    "            self.states.append(state)\n",
    "            self.actions.append(action)\n",
    "            self.rewards.append(reward)\n",
    "            self.next_states.append(next_state)\n",
    "            self.Dones.append(Done)\n",
    "        else:\n",
    "            #overwrite older values \n",
    "            self.states[self.idx] = state\n",
    "            self.actions[self.idx]= action\n",
    "            self.rewards[self.idx] = reward\n",
    "            self.next_states[self.idx] =next_state\n",
    "            self.Dones[self.idx] = Done\n",
    "        self.size = min(self.size + 1, self.max_size)\n",
    "        self.idx = (self.idx + 1) % self.max_size\n",
    "\n",
    "    def sample(self, batch_size):\n",
    "        indices = sample(range(self.size), batch_size)\n",
    "        states = np.array(self.states)[indices]\n",
    "        actions =  np.array(self.actions)[indices]\n",
    "        rewards = np.array(self.rewards)[indices]\n",
    "        next_states = np.array(self.next_states)[indices]\n",
    "        Dones = np.array(self.Dones)[indices]\n",
    "        \n",
    "        return states,actions, rewards, next_states, Dones\n",
    "    def __len__(self):\n",
    "        return self.size"
   ]
  },
  {
   "cell_type": "markdown",
   "id": "ee8c1f8b",
   "metadata": {},
   "source": [
    "## test Memory Replay "
   ]
  },
  {
   "cell_type": "code",
   "execution_count": 19,
   "id": "8a6227d8",
   "metadata": {},
   "outputs": [
    {
     "name": "stdout",
     "output_type": "stream",
     "text": [
      "The episode total rewards is  -142.61625549606092\n",
      "The episode total rewards is  -207.46039232659484\n",
      "The episode total rewards is  -173.01854310039295\n",
      "The episode total rewards is  -110.59911912712009\n",
      "The episode total rewards is  -162.81149742134363\n",
      "The episode total rewards is  -106.30851237925413\n",
      "The episode total rewards is  -107.41855043556387\n",
      "The episode total rewards is  -69.35876394794022\n",
      "The episode total rewards is  -94.56840862276391\n",
      "The episode total rewards is  -88.46855301379716\n",
      "The episode total rewards is  -96.54531108500206\n",
      "The episode total rewards is  -148.06044444110745\n",
      "The episode total rewards is  -202.45618483173666\n",
      "The episode total rewards is  -84.38938170435502\n",
      "The episode total rewards is  -172.0788752017715\n",
      "The episode total rewards is  -428.9699693795071\n",
      "The episode total rewards is  -135.22757194064695\n",
      "The episode total rewards is  -146.87689810699914\n",
      "The episode total rewards is  -226.23405800145838\n",
      "The episode total rewards is  -334.41505709257353\n",
      "The episode total rewards is  -55.187273873605086\n",
      "The episode total rewards is  -40.147094085211975\n",
      "The episode total rewards is  -86.03282281171371\n",
      "The episode total rewards is  -210.0195969744325\n",
      "The episode total rewards is  -71.61898915547832\n",
      "The episode total rewards is  -42.5273465019437\n",
      "The episode total rewards is  -115.76049446962753\n",
      "The episode total rewards is  -175.20422966856222\n",
      "The episode total rewards is  -113.30570263721353\n",
      "The episode total rewards is  -108.95742352236519\n",
      "The episode total rewards is  -129.4107123416442\n",
      "The episode total rewards is  -91.2839038664175\n",
      "The episode total rewards is  -239.22662894759353\n",
      "The episode total rewards is  -78.1364523863654\n",
      "The episode total rewards is  21.863241528425263\n",
      "The episode total rewards is  -346.10116568304977\n",
      "The episode total rewards is  -279.9872880036454\n",
      "The episode total rewards is  -91.9776697928801\n",
      "The episode total rewards is  -43.53534567740743\n",
      "The episode total rewards is  -327.0085825928086\n",
      "The episode total rewards is  -244.2545055216729\n",
      "The episode total rewards is  -78.02728286353386\n",
      "The episode total rewards is  -255.16813856174437\n",
      "The episode total rewards is  -80.50457271892894\n",
      "The episode total rewards is  -121.89169291728163\n",
      "The episode total rewards is  -423.74221690882393\n",
      "The episode total rewards is  -209.99840664544914\n",
      "The episode total rewards is  -440.0434201228851\n",
      "The episode total rewards is  -399.9661768356221\n",
      "The episode total rewards is  -241.9779770149026\n",
      "The episode total rewards is  -156.92502060899253\n",
      "The episode total rewards is  -54.259075799959476\n",
      "The episode total rewards is  -237.29153838809216\n",
      "The episode total rewards is  -156.66409860276275\n",
      "The episode total rewards is  -227.88902398042737\n",
      "The episode total rewards is  -272.53840379447513\n",
      "The episode total rewards is  -147.16843277721438\n",
      "The episode total rewards is  -111.42207856086004\n",
      "The episode total rewards is  -494.5621685727993\n",
      "The episode total rewards is  -157.4854583840591\n",
      "The episode total rewards is  -360.7252058383741\n",
      "The episode total rewards is  -248.4244910271565\n",
      "The episode total rewards is  -179.24949753554552\n",
      "The episode total rewards is  -264.77249000847166\n",
      "The episode total rewards is  -85.92579863654709\n",
      "The episode total rewards is  -88.88712662058246\n",
      "The episode total rewards is  -291.42504018050863\n",
      "The episode total rewards is  -108.51678849309889\n",
      "The episode total rewards is  -153.08267108958586\n",
      "The episode total rewards is  -354.23862307628565\n",
      "The episode total rewards is  -98.73386423218612\n",
      "The episode total rewards is  -232.88227098280262\n",
      "The episode total rewards is  -109.74682409839649\n",
      "The episode total rewards is  -127.52504672360178\n",
      "The episode total rewards is  -201.4908485843143\n",
      "The episode total rewards is  -21.237724177746486\n",
      "The episode total rewards is  -370.65362434128247\n",
      "The episode total rewards is  -108.49273295913137\n",
      "The episode total rewards is  -184.39109892966349\n",
      "The episode total rewards is  -141.84596880061298\n",
      "The episode total rewards is  -207.6530223605485\n",
      "The episode total rewards is  -110.16516150788496\n",
      "The episode total rewards is  -120.06915158918312\n",
      "The episode total rewards is  -364.3024026131841\n",
      "The episode total rewards is  -130.5985020689975\n",
      "The episode total rewards is  -281.44789277803216\n",
      "The episode total rewards is  -66.45137881347321\n",
      "The episode total rewards is  -178.2130641564766\n",
      "The episode total rewards is  -103.1550247199615\n",
      "The episode total rewards is  -279.0129779820919\n",
      "The episode total rewards is  -286.36384611868016\n",
      "The episode total rewards is  -127.87095502503703\n",
      "The episode total rewards is  -354.5776787322616\n",
      "The episode total rewards is  -175.27043599072547\n",
      "The episode total rewards is  -105.6999046713699\n",
      "The episode total rewards is  -147.16928056250407\n",
      "The episode total rewards is  -155.13315313112517\n",
      "The episode total rewards is  -179.87873026882588\n",
      "The episode total rewards is  -96.75231408608673\n",
      "The episode total rewards is  -140.69362021797366\n",
      "The episode total rewards is  -369.61290120178506\n",
      "The episode total rewards is  -185.03574282724523\n",
      "The episode total rewards is  -72.74402979938347\n",
      "The episode total rewards is  -182.99970489495823\n",
      "The episode total rewards is  -126.73779926374655\n",
      "The episode total rewards is  -224.41959678607134\n",
      "The episode total rewards is  -78.0835126599795\n",
      "The episode total rewards is  -122.32078510684946\n",
      "The episode total rewards is  -391.36683237386\n",
      "The episode total rewards is  -132.6330224197199\n",
      "The episode total rewards is  -272.6192045705259\n",
      "The episode total rewards is  -145.95504152188002\n",
      "The episode total rewards is  -107.7153369007305\n",
      "The episode total rewards is  -111.83186174635043\n",
      "The episode total rewards is  -332.93596237111734\n",
      "The episode total rewards is  -108.74129046789822\n",
      "The episode total rewards is  -146.4425449489604\n",
      "The episode total rewards is  -415.20264993002996\n",
      "The episode total rewards is  -65.83680813379151\n",
      "The episode total rewards is  -68.07437171698665\n",
      "The episode total rewards is  -68.09877701597483\n",
      "The episode total rewards is  -442.4024578374907\n",
      "The episode total rewards is  -319.3403377786091\n",
      "The episode total rewards is  -315.25070647980795\n",
      "The episode total rewards is  -205.95611589251845\n",
      "The episode total rewards is  -22.36210105563481\n",
      "The episode total rewards is  -87.08525453045468\n",
      "The episode total rewards is  -266.90338575679857\n",
      "The episode total rewards is  -256.3740943031203\n",
      "The episode total rewards is  -153.47617700213095\n",
      "The episode total rewards is  -342.9902116383504\n",
      "The episode total rewards is  -105.6025946913315\n",
      "The episode total rewards is  -351.76347833750424\n",
      "The episode total rewards is  -81.70341153251134\n",
      "The episode total rewards is  -339.9683848856671\n",
      "The episode total rewards is  10.354805190195535\n",
      "The episode total rewards is  -122.26456139151045\n",
      "The episode total rewards is  -140.26941055663642\n",
      "The episode total rewards is  -123.61319616552173\n",
      "The episode total rewards is  -75.10394408585228\n",
      "The episode total rewards is  -200.23559295887605\n",
      "The episode total rewards is  -104.94908945381647\n",
      "The episode total rewards is  -90.62366193128133\n",
      "The episode total rewards is  -114.73348527210082\n",
      "The episode total rewards is  -184.05817225004026\n",
      "The episode total rewards is  -218.73200442778693\n",
      "The episode total rewards is  -214.1593193520458\n",
      "The episode total rewards is  -103.9702180564989\n",
      "The episode total rewards is  -103.04291535551924\n",
      "The episode total rewards is  -126.10370765699588\n"
     ]
    },
    {
     "data": {
      "text/plain": [
       "10000"
      ]
     },
     "execution_count": 19,
     "metadata": {},
     "output_type": "execute_result"
    }
   ],
   "source": [
    "m = MemoryReplay(10000)\n",
    "\n",
    "num_episodes = 150\n",
    "for i in range(num_episodes):\n",
    "    state = env.reset()\n",
    "    Done = False\n",
    "    total_rewards = 0\n",
    "    \n",
    "    while not Done: \n",
    "        #take a random action\n",
    "        action = env.action_space.sample()\n",
    "        #implement the action \n",
    "        next_state, reward, Done, info = env.step(action)\n",
    "        #sum the rewards\n",
    "        total_rewards += reward\n",
    "        m.append(state,action,reward,next_state,Done)\n",
    "        state = next_state\n",
    "    print(\"The episode total rewards is \", total_rewards)\n",
    "\n",
    "len(m)"
   ]
  },
  {
   "cell_type": "code",
   "execution_count": 21,
   "id": "73e3351a",
   "metadata": {},
   "outputs": [
    {
     "name": "stdout",
     "output_type": "stream",
     "text": [
      "8.65 ms ± 141 µs per loop (mean ± std. dev. of 7 runs, 100 loops each)\n"
     ]
    }
   ],
   "source": [
    "%timeit m.sample(64)"
   ]
  },
  {
   "cell_type": "code",
   "execution_count": 12,
   "id": "89c788cf",
   "metadata": {},
   "outputs": [],
   "source": [
    "class DQL_Agent:\n",
    "    def __init__(self,env,memory_max_size =100_000,dicount= 0.99,lr_optim=1e-3):\n",
    "        self.env = env\n",
    "        self.num_states = env.observation_space.shape[0]\n",
    "        self.num_action = env.action_space.n\n",
    "        self.dicount = dicount\n",
    "        \n",
    "        self.eps = 1.0\n",
    "        self.decay_rate_eps = 0.993\n",
    "        self.min_eps = 0.05\n",
    "        \n",
    "        self.device = torch.device(\"cuda\" if torch.cuda.is_available() else \"cpu\")\n",
    "\n",
    "        self.reply_memory = MemoryReplay(memory_max_size)\n",
    "        self.Q_action = Deep_Q_Network(self.num_states,self.num_action).to(self.device)\n",
    "        self.Q_target = Deep_Q_Network(self.num_states,self.num_action).to(self.device)\n",
    "        self.Q_target.eval() #will turn off any dropout or batch norm layer \n",
    "        #make sure both network has identical weights \n",
    "        self.update_target_weights()\n",
    "        \n",
    "        self.loss_fucntion = nn.MSELoss()\n",
    "        self.optimizer = torch.optim.SGD(self.Q_action.parameters(),lr=lr_optim)\n",
    "        \n",
    "        \n",
    "    def update_target_weights(self):\n",
    "        self.Q_target.load_state_dict(self.Q_action.state_dict())\n",
    "    \n",
    "    def eps_greedy(self,states):\n",
    "        if np.random.rand()<self.eps:\n",
    "            return self.env.action_space.sample()\n",
    "        else:\n",
    "            #act greedy\n",
    "            \n",
    "            #make sure the state are tensor in order to feed it to the network\n",
    "            if not torch.is_tensor(states):\n",
    "                states = torch.from_numpy(states[np.newaxis,:]).float().to(self.device)\n",
    "            with torch.no_grad(): #will disable tracking the gradient --> reduce cpu/memory usage\n",
    "                action = self.Q_action(states)\n",
    "            max_action = torch.argmax(action).item()\n",
    "            return max_action\n",
    "    \n",
    "    def decay_eps(self):\n",
    "        self.eps = np.maximum(self.eps*self.decay_rate_eps,self.min_eps)\n",
    "    \n",
    "    def to_tensor(self,states, actions, rewards,next_states,Dones):\n",
    "        states = torch.from_numpy(states).float().to(self.device)\n",
    "        actions = torch.from_numpy(actions).long().to(self.device)\n",
    "        rewards = torch.from_numpy(rewards).float().to(self.device)\n",
    "        next_states = torch.from_numpy(next_states).float().to(self.device)\n",
    "        Dones = torch.from_numpy(Dones).to(self.device)\n",
    "        return states, actions, rewards, next_states, Dones\n",
    "    def learnFromExperience(self,miniBatchSize): #hallucinations\n",
    "        if miniBatchSize <2:\n",
    "            raise ValueError(\"batch size must greater than 1\")\n",
    "        #make sure we have enough experiences \n",
    "        if len(self.reply_memory) < miniBatchSize:\n",
    "            return #not enough experience, sounds familiar right?\n",
    "        #else sample and learn\n",
    "        states, actions, rewards, next_states, Dones = self.reply_memory.sample(miniBatchSize)\n",
    "        #convert the result to tensor for model input \n",
    "        states, actions, rewards, next_states, Dones = self.to_tensor(states, actions, rewards, next_states, Dones)\n",
    "        #calculate the current Q estimation \n",
    "        Q_estimate = self.Q_action(states)\n",
    "        #obtain the q value for the actioned used in the experiences \n",
    "        Q_estimate_a = Q_estimate.gather(1, actions.view(-1, 1)).squeeze(1)\n",
    "        \n",
    "        #calculate the target value using --> rewards + discount* argmax_a Q(next_state, target_network_weight)\n",
    "        #the max gives both the max values and the indices \n",
    "        Q_target = self.Q_target(next_states).max(dim=1).values\n",
    "        #note that one the state is terminal, we only count the reward, therefore, we need to check if the state is Dones\n",
    "        #if Done is true, we should not calculate Q for the next states \n",
    "        Q_target[Dones] = 0.0 \n",
    "        #final target calculation\n",
    "        Q_target = rewards + self.dicount*Q_target\n",
    "        \n",
    "        #make sure the grad is zero \n",
    "        self.optimizer.zero_grad()\n",
    "\n",
    "        #calculate the loss \n",
    "        loss=self.loss_fucntion(Q_target,Q_estimate_a)\n",
    "        #calcualte the gradient dL/dw\n",
    "        loss.backward()\n",
    "        #optimize using gradient decent\n",
    "        self.optimizer.step()\n",
    "        \n",
    "    def get_max_action(self,states):\n",
    "        self.Q_action.eval()\n",
    "        #make sure the state are tensor in order to feed it to the network\n",
    "        if not torch.is_tensor(states):\n",
    "            states = torch.from_numpy(states[np.newaxis,:]).to(self.device)\n",
    "        with torch.no_grad(): #will disable tracking the gradient --> reduce cpu/memory usage\n",
    "            action = self.Q_target(states)\n",
    "        max_action = torch.argmax(action).item()\n",
    "        return max_action\n",
    "        \n",
    "        \n",
    "            \n",
    "        "
   ]
  },
  {
   "cell_type": "code",
   "execution_count": 25,
   "id": "8ede0ef5",
   "metadata": {},
   "outputs": [],
   "source": [
    "class Training_agent:\n",
    "    #Agent and environment interaction\n",
    "    def __init__(self, env,memory_max_size =10_000,dicount= 0.99,lr_optim=1e-3,update_freq =1000):\n",
    "        self.agent = DQL_Agent(env,memory_max_size ,dicount ,lr_optim)\n",
    "        self.update_freq = update_freq\n",
    "        self.steps = 0 \n",
    "    \n",
    "    def train_agent(self, num_episodes,batch_size):\n",
    "        self.rewards = np.zeros(num_episodes)\n",
    "        self.moving_average = []\n",
    "        for i in range(num_episodes):\n",
    "            state = self.agent.env.reset()\n",
    "            Done = False\n",
    "            total_rewards = 0\n",
    "            while not Done: \n",
    "                #take an action using the greedy policy\n",
    "                action = self.agent.eps_greedy(state)\n",
    "                #implement the action \n",
    "                next_state, reward, Done, info = self.agent.env.step(action)\n",
    "                #save the experience in the memory of the agent \n",
    "                self.agent.reply_memory.append(state,action,reward,next_state,Done)\n",
    "                #sum the rewards\n",
    "                total_rewards += reward\n",
    "                \n",
    "                #learn from experience (if there is enough)\n",
    "                self.agent.learnFromExperience(batch_size)\n",
    "                #update the tarqet network per the desired frequency \n",
    "                self.steps +=1 \n",
    "                if (self.steps % self.update_freq) == 0:\n",
    "                    self.agent.update_target_weights()\n",
    "                state = next_state\n",
    "            #append the rewards\n",
    "            self.rewards[i] = total_rewards\n",
    "            self.moving_average.append(np.mean(self.rewards[-100:]))\n",
    "            #update the eps \n",
    "            self.agent.decay_eps()\n",
    "            if i %10 == 0:\n",
    "                print(\"The episode {} total rewards is {}\".format(i+1, total_rewards))\n",
    "                print(len(self.agent.reply_memory))\n",
    "    def test_agent(self,env,render=False):\n",
    "        state = env.reset()\n",
    "        Done = False \n",
    "        total_rewards = 0\n",
    "        \n",
    "        while not Done: \n",
    "            action = self.agent.get_max_action(state)\n",
    "            next_state, reward,Done, info = env.step(action)\n",
    "            total_rewards += reward\n",
    "            if render:\n",
    "                env.render()\n",
    "            state = next_state\n",
    "        print(\"The episode total rewards is \", total_rewards)\n",
    "        env.close()\n",
    "        \n",
    "        "
   ]
  },
  {
   "cell_type": "code",
   "execution_count": 26,
   "id": "51a2dfba",
   "metadata": {},
   "outputs": [
    {
     "name": "stderr",
     "output_type": "stream",
     "text": [
      "C:\\Users\\Labuser\\miniconda3\\envs\\rl_env\\lib\\site-packages\\gym\\utils\\passive_env_checker.py:97: UserWarning: \u001b[33mWARN: We recommend you to use a symmetric and normalized Box action space (range=[-1, 1]) https://stable-baselines3.readthedocs.io/en/master/guide/rl_tips.html\u001b[0m\n",
      "  logger.warn(\n"
     ]
    },
    {
     "name": "stdout",
     "output_type": "stream",
     "text": [
      "The episode 1 total rewards is -243.15536488611585\n",
      "91\n",
      "The episode 11 total rewards is -402.8978131612824\n",
      "1053\n",
      "The episode 21 total rewards is -38.8960014514666\n",
      "2065\n",
      "The episode 31 total rewards is -108.21886655151127\n",
      "3044\n",
      "The episode 41 total rewards is -68.04877959068988\n",
      "4150\n",
      "The episode 51 total rewards is -358.3841423813191\n",
      "5356\n",
      "The episode 61 total rewards is -106.64991035459285\n",
      "6607\n",
      "The episode 71 total rewards is -118.2626156574455\n",
      "8715\n",
      "The episode 81 total rewards is -45.93909662416678\n",
      "9969\n",
      "The episode 91 total rewards is -90.45288253633441\n",
      "10000\n"
     ]
    }
   ],
   "source": [
    "env = gym.make('LunarLander-v2')\n",
    "training_agent = Training_agent(env)\n",
    "training_agent.train_agent(100,32)"
   ]
  },
  {
   "cell_type": "code",
   "execution_count": 27,
   "id": "8ba259d8",
   "metadata": {},
   "outputs": [
    {
     "data": {
      "text/plain": [
       "[<matplotlib.lines.Line2D at 0x19ea3acaa00>]"
      ]
     },
     "execution_count": 27,
     "metadata": {},
     "output_type": "execute_result"
    },
    {
     "data": {
      "image/png": "[encoded data removed]",
      "text/plain": [
       "<Figure size 432x288 with 1 Axes>"
      ]
     },
     "metadata": {
      "needs_background": "light"
     },
     "output_type": "display_data"
    }
   ],
   "source": [
    "plt.plot(training_agent.rewards)"
   ]
  },
  {
   "cell_type": "code",
   "execution_count": 282,
   "id": "cdf4ca1f",
   "metadata": {},
   "outputs": [
    {
     "name": "stdout",
     "output_type": "stream",
     "text": [
      "0.05\n",
      "The episode total rewards is  -720.0402136060908\n"
     ]
    }
   ],
   "source": [
    "print(training_agent.agent.eps)\n",
    "training_agent.test_agent(render=True)\n"
   ]
  },
  {
   "cell_type": "code",
   "execution_count": null,
   "id": "e1c48fe9",
   "metadata": {},
   "outputs": [],
   "source": []
  }
 ],
 "metadata": {
  "kernelspec": {
   "display_name": "Python 3 (ipykernel)",
   "language": "python",
   "name": "python3"
  },
  "language_info": {
   "codemirror_mode": {
    "name": "ipython",
    "version": 3
   },
   "file_extension": ".py",
   "mimetype": "text/x-python",
   "name": "python",
   "nbconvert_exporter": "python",
   "pygments_lexer": "ipython3",
   "version": "3.9.12"
  }
 },
 "nbformat": 4,
 "nbformat_minor": 5
}
