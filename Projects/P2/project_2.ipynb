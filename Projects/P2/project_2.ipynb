{
 "cells": [
  {
   "cell_type": "code",
   "execution_count": 1,
   "id": "cb51a357",
   "metadata": {},
   "outputs": [
    {
     "name": "stderr",
     "output_type": "stream",
     "text": [
      "/Users/labuser/miniconda3/envs/rl_env/lib/python3.9/site-packages/tqdm/auto.py:22: TqdmWarning: IProgress not found. Please update jupyter and ipywidgets. See https://ipywidgets.readthedocs.io/en/stable/user_install.html\n",
      "  from .autonotebook import tqdm as notebook_tqdm\n"
     ]
    }
   ],
   "source": [
    "from collections import deque, namedtuple\n",
    "from random import sample\n",
    "import numpy as np\n",
    "import gym \n",
    "import torch\n",
    "import torch.nn as nn\n",
    "import torch.nn.functional as F\n",
    "from matplotlib import pyplot as plt "
   ]
  },
  {
   "cell_type": "code",
   "execution_count": 2,
   "id": "fc21110e",
   "metadata": {},
   "outputs": [],
   "source": [
    "env = gym.make('LunarLander-v2')"
   ]
  },
  {
   "cell_type": "code",
   "execution_count": 3,
   "id": "d16c73f7",
   "metadata": {},
   "outputs": [
    {
     "name": "stdout",
     "output_type": "stream",
     "text": [
      "The episode total rewards is  -135.17469718325276\n",
      "The episode total rewards is  -116.7741200625006\n",
      "The episode total rewards is  -265.583606382973\n"
     ]
    }
   ],
   "source": [
    "num_episodes = 3\n",
    "for i in range(num_episodes):\n",
    "    state = env.reset()\n",
    "    Done = False\n",
    "    total_rewards = 0\n",
    "    \n",
    "    while not Done: \n",
    "        #take a random action\n",
    "        action = env.action_space.sample()\n",
    "        #implement the action \n",
    "        next_state, reward, Done, info = env.step(action)\n",
    "        #sum the rewards\n",
    "        total_rewards += reward\n",
    "        #render the env\n",
    "        env.render()\n",
    "    print(\"The episode total rewards is \", total_rewards)\n",
    "\n",
    "env.close()"
   ]
  },
  {
   "cell_type": "code",
   "execution_count": 51,
   "id": "15bf757c",
   "metadata": {},
   "outputs": [
    {
     "data": {
      "text/plain": [
       "array([-5.8755872e-04,  1.4036485e+00, -5.9532933e-02, -3.2317889e-01,\n",
       "        6.8766251e-04,  1.3485086e-02,  0.0000000e+00,  0.0000000e+00],\n",
       "      dtype=float32)"
      ]
     },
     "execution_count": 51,
     "metadata": {},
     "output_type": "execute_result"
    }
   ],
   "source": [
    "state = env.reset()\n",
    "state"
   ]
  },
  {
   "cell_type": "code",
   "execution_count": 3,
   "id": "e584f2e6",
   "metadata": {},
   "outputs": [],
   "source": [
    "class Deep_Q_Network(nn.Module):\n",
    "    def __init__(self,num_states,num_actions,nodes_1 =50, nodes_2 = 50):\n",
    "        super(Deep_Q_Network,self).__init__()\n",
    "        self.fc1 = nn.Linear(num_states,nodes_1)\n",
    "        self.fc2 = nn.Linear(nodes_1,nodes_2)\n",
    "        self.fc3 = nn.Linear(nodes_2,num_actions)\n",
    "    \n",
    "    def forward(self,states):\n",
    "        x = F.relu(self.fc1(states))\n",
    "        x = F.relu(self.fc2(x))\n",
    "        x = self.fc3(x)\n",
    "        \n",
    "        return x"
   ]
  },
  {
   "cell_type": "code",
   "execution_count": 4,
   "id": "a4f753be",
   "metadata": {},
   "outputs": [
    {
     "data": {
      "text/plain": [
       "tensor(0.1069, grad_fn=<MaxBackward1>)"
      ]
     },
     "execution_count": 4,
     "metadata": {},
     "output_type": "execute_result"
    }
   ],
   "source": [
    "model = Deep_Q_Network(8,4)\n",
    "device = torch.device(\"cuda\" if torch.cuda.is_available() else \"cpu\")\n",
    "states = env.reset()\n",
    "states = torch.from_numpy(states[np.newaxis,:]).to(device)\n",
    "model(states).max()"
   ]
  },
  {
   "cell_type": "code",
   "execution_count": 42,
   "id": "7a2ee255",
   "metadata": {},
   "outputs": [],
   "source": [
    "# class MemoryReplay:\n",
    "#     def __init__(self, max_size):\n",
    "#         self.states = []\n",
    "#         self.actions = []\n",
    "#         self.rewards = []\n",
    "#         self.next_states = []\n",
    "#         self.Dones = []\n",
    "#         self.max_size = max_size\n",
    "#         self.idx = 0\n",
    "#         self.size = 0\n",
    "\n",
    "#     def append(self, state,action, reward,next_state,Done):\n",
    "#         #first in, first out \n",
    "#         if self.idx <= self.max_size:\n",
    "#             self.states.append(state)\n",
    "#             self.actions.append(action)\n",
    "#             self.rewards.append(reward)\n",
    "#             self.next_states.append(next_state)\n",
    "#             self.Dones.append(Done)\n",
    "#         else:\n",
    "#             #overwrite older values \n",
    "#             self.states[self.idx] = state\n",
    "#             self.actions[self.idx]= action\n",
    "#             self.rewards[self.idx] = reward\n",
    "#             self.next_states[self.idx] =next_state\n",
    "#             self.Dones[self.idx] = Done\n",
    "#         self.size = min(self.size + 1, self.max_size)\n",
    "#         self.idx = (self.idx + 1) % self.max_size\n",
    "\n",
    "#     def sample(self, batch_size):\n",
    "#         indices = sample(range(self.size), batch_size)\n",
    "#         states = np.array(self.states)[indices]\n",
    "#         actions =  np.array(self.actions)[indices]\n",
    "#         rewards = np.array(self.rewards)[indices]\n",
    "#         next_states = np.array(self.next_states)[indices]\n",
    "#         Dones = np.array(self.Dones)[indices]\n",
    "        \n",
    "#         return states,actions, rewards, next_states, Dones\n",
    "#     def __len__(self):\n",
    "#         return self.size"
   ]
  },
  {
   "cell_type": "code",
   "execution_count": 5,
   "id": "4824d2b8",
   "metadata": {},
   "outputs": [],
   "source": [
    "class MemoryReplay:\n",
    "    \"\"\"Fixed-size buffer to store experience tuples.\"\"\"\n",
    "\n",
    "    def __init__(self, buffer_size):\n",
    "        \"\"\"Initialize a ReplayBuffer object.\n",
    "\n",
    "        Params\n",
    "        ======\n",
    "            action_size (int): dimension of each action\n",
    "            buffer_size (int): maximum size of buffer\n",
    "            batch_size (int): size of each training batch\n",
    "            seed (int): random seed\n",
    "        \"\"\"\n",
    "        self.memory = deque(maxlen=buffer_size)\n",
    "        self.experience = namedtuple(\"Experience\", field_names=[\"state\", \"action\", \"reward\", \"next_state\", \"done\"])\n",
    "        \n",
    "    \n",
    "    def append(self, state, action, reward, next_state, done):\n",
    "        \"\"\"Add a new experience to memory.\"\"\"\n",
    "        e = self.experience(state, action, reward, next_state, done)\n",
    "        self.memory.append(e)\n",
    "    \n",
    "    def sample(self,batch_size):\n",
    "        \"\"\"Randomly sample a batch of experiences from memory.\"\"\"\n",
    "        experiences = sample(self.memory, k=batch_size)\n",
    "\n",
    "        states = np.vstack([e.state for e in experiences if e is not None])\n",
    "        actions = np.vstack([e.action for e in experiences if e is not None]).squeeze(1)\n",
    "        rewards = np.vstack([e.reward for e in experiences if e is not None]).squeeze(1)\n",
    "        next_states = np.vstack([e.next_state for e in experiences if e is not None])\n",
    "        dones = np.vstack([e.done for e in experiences if e is not None]).squeeze(1)\n",
    "  \n",
    "        return (states, actions, rewards, next_states, dones)\n",
    "\n",
    "    def __len__(self):\n",
    "        \"\"\"Return the current size of internal memory.\"\"\"\n",
    "        return len(self.memory)"
   ]
  },
  {
   "cell_type": "markdown",
   "id": "ee8c1f8b",
   "metadata": {},
   "source": [
    "## test Memory Replay "
   ]
  },
  {
   "cell_type": "code",
   "execution_count": 6,
   "id": "8a6227d8",
   "metadata": {},
   "outputs": [
    {
     "data": {
      "text/plain": [
       "10000"
      ]
     },
     "execution_count": 6,
     "metadata": {},
     "output_type": "execute_result"
    }
   ],
   "source": [
    "m1 = MemoryReplay(10000)\n",
    "\n",
    "num_episodes = 150\n",
    "for i in range(num_episodes):\n",
    "    state = env.reset()\n",
    "    Done = False\n",
    "    total_rewards = 0\n",
    "    \n",
    "    while not Done: \n",
    "        #take a random action\n",
    "        action = env.action_space.sample()\n",
    "        #implement the action \n",
    "        next_state, reward, Done, info = env.step(action)\n",
    "        #sum the rewards\n",
    "        total_rewards += reward\n",
    "        m1.append(state,action,reward,next_state,Done)\n",
    "        state = next_state\n",
    "    #print(\"The episode total rewards is \", total_rewards)\n",
    "\n",
    "len(m1)"
   ]
  },
  {
   "cell_type": "code",
   "execution_count": 66,
   "id": "733f1096",
   "metadata": {},
   "outputs": [
    {
     "data": {
      "text/plain": [
       "10000"
      ]
     },
     "execution_count": 66,
     "metadata": {},
     "output_type": "execute_result"
    }
   ],
   "source": [
    "# m2 = MemoryReplay_2(10000)\n",
    "\n",
    "# num_episodes = 150\n",
    "# for i in range(num_episodes):\n",
    "#     state = env.reset()\n",
    "#     Done = False\n",
    "#     total_rewards = 0\n",
    "    \n",
    "#     while not Done: \n",
    "#         #take a random action\n",
    "#         action = env.action_space.sample()\n",
    "#         #implement the action \n",
    "#         next_state, reward, Done, info = env.step(action)\n",
    "#         #sum the rewards\n",
    "#         total_rewards += reward\n",
    "#         m2.append(state,action,reward,next_state,Done)\n",
    "#         state = next_state\n",
    "#     #print(\"The episode total rewards is \", total_rewards)\n",
    "\n",
    "# len(m2)"
   ]
  },
  {
   "cell_type": "code",
   "execution_count": 64,
   "id": "70ba087a",
   "metadata": {},
   "outputs": [
    {
     "name": "stdout",
     "output_type": "stream",
     "text": [
      "(32,) (32,)\n"
     ]
    }
   ],
   "source": [
    "states1,actions1,rewards2,next_states1,Dones1 = m1.sample(32)\n",
    "states2,actions2,rewards2,next_states2,Dones2 = m2.sample(32)\n",
    "print(Dones1.shape, Dones2.shape)"
   ]
  },
  {
   "cell_type": "code",
   "execution_count": 44,
   "id": "73e3351a",
   "metadata": {},
   "outputs": [
    {
     "name": "stdout",
     "output_type": "stream",
     "text": [
      "14.4 ms ± 204 µs per loop (mean ± std. dev. of 7 runs, 100 loops each)\n"
     ]
    }
   ],
   "source": [
    "%timeit m.sample(64)"
   ]
  },
  {
   "cell_type": "code",
   "execution_count": 7,
   "id": "89c788cf",
   "metadata": {},
   "outputs": [],
   "source": [
    "class DQL_Agent:\n",
    "    def __init__(self,env,memory_max_size =10_000,dicount= 0.99,lr_optim=1e-3,DQL_node1=50,DQL_node2=50,decay_rate = 0.996):\n",
    "        self.env = env\n",
    "        self.num_states = env.observation_space.shape[0]\n",
    "        self.num_action = env.action_space.n\n",
    "        self.dicount = dicount\n",
    "        \n",
    "        self.eps = 1.0\n",
    "        self.decay_rate_eps = decay_rate\n",
    "        self.min_eps = 0.05\n",
    "        \n",
    "        self.device = torch.device(\"cuda\" if torch.cuda.is_available() else \"cpu\")\n",
    "\n",
    "        self.reply_memory = MemoryReplay(memory_max_size)\n",
    "        self.Q_action = Deep_Q_Network(self.num_states,self.num_action,DQL_node1,DQL_node2).to(self.device)\n",
    "        self.Q_target = Deep_Q_Network(self.num_states,self.num_action,DQL_node1,DQL_node2).to(self.device)\n",
    "        self.Q_target.eval() #will turn off any dropout or batch norm layer \n",
    "        #make sure both network has identical weights \n",
    "        self.update_target_weights()\n",
    "        \n",
    "        self.loss_fucntion = nn.MSELoss()\n",
    "        self.optimizer = torch.optim.SGD(self.Q_action.parameters(),lr=lr_optim)\n",
    "        \n",
    "        \n",
    "    def update_target_weights(self):\n",
    "        self.Q_target.load_state_dict(self.Q_action.state_dict())\n",
    "    \n",
    "    def eps_greedy(self,states):\n",
    "        if np.random.rand()<self.eps:\n",
    "            return self.env.action_space.sample()\n",
    "        else:\n",
    "            #act greedy\n",
    "            \n",
    "            #make sure the state are tensor in order to feed it to the network\n",
    "            if not torch.is_tensor(states):\n",
    "                states = torch.from_numpy(states[np.newaxis,:]).float().to(self.device)\n",
    "            with torch.no_grad(): #will disable tracking the gradient --> reduce cpu/memory usage\n",
    "                action = self.Q_action(states)\n",
    "            max_action = torch.argmax(action).item()\n",
    "            return max_action\n",
    "    \n",
    "    def decay_eps(self):\n",
    "        self.eps = np.maximum(self.eps*self.decay_rate_eps,self.min_eps)\n",
    "    \n",
    "    def to_tensor(self,states, actions, rewards,next_states,Dones):\n",
    "        states = torch.from_numpy(states).float().to(self.device)\n",
    "        actions = torch.from_numpy(actions).long().to(self.device)\n",
    "        rewards = torch.from_numpy(rewards).float().to(self.device)\n",
    "        next_states = torch.from_numpy(next_states).float().to(self.device)\n",
    "        Dones = torch.from_numpy(Dones).to(self.device)\n",
    "        return states, actions, rewards, next_states, Dones\n",
    "    def learnFromExperience(self,miniBatchSize): #hallucinations\n",
    "        if miniBatchSize <2:\n",
    "            raise ValueError(\"batch size must greater than 1\")\n",
    "        #make sure we have enough experiences \n",
    "        if len(self.reply_memory) < miniBatchSize:\n",
    "            return #not enough experience, sounds familiar right?\n",
    "        #else sample and learn\n",
    "        states, actions, rewards, next_states, Dones = self.reply_memory.sample(miniBatchSize)\n",
    "        #convert the result to tensor for model input \n",
    "        states, actions, rewards, next_states, Dones = self.to_tensor(states, actions, rewards, next_states, Dones)\n",
    "        #calculate the current Q estimation \n",
    "        Q_estimate = self.Q_action(states)\n",
    "        #obtain the q value for the actioned used in the experiences \n",
    "        Q_estimate_a = Q_estimate.gather(1, actions.view(-1, 1)).squeeze(1)\n",
    "        \n",
    "        #calculate the target value using --> rewards + discount* argmax_a Q(next_state, target_network_weight)\n",
    "        #the max gives both the max values and the indices \n",
    "        Q_target = self.Q_target(next_states).max(dim=1).values\n",
    "        #note that one the state is terminal, we only count the reward, therefore, we need to check if the state is Dones\n",
    "        #if Done is true, we should not calculate Q for the next states \n",
    "        Q_target[Dones] = 0.0 \n",
    "        #final target calculation\n",
    "        Q_target = rewards + self.dicount*Q_target\n",
    "        \n",
    "        #make sure the grad is zero \n",
    "        self.optimizer.zero_grad()\n",
    "\n",
    "        #calculate the loss \n",
    "        loss=self.loss_fucntion(Q_target,Q_estimate_a)\n",
    "        #calcualte the gradient dL/dw\n",
    "        loss.backward()\n",
    "        #optimize using gradient decent\n",
    "        self.optimizer.step()\n",
    "        \n",
    "    def get_max_action(self,states):\n",
    "        self.Q_action.eval()\n",
    "        #make sure the state are tensor in order to feed it to the network\n",
    "        if not torch.is_tensor(states):\n",
    "            states = torch.from_numpy(states[np.newaxis,:]).to(self.device)\n",
    "        with torch.no_grad(): #will disable tracking the gradient --> reduce cpu/memory usage\n",
    "            action = self.Q_target(states)\n",
    "        max_action = torch.argmax(action).item()\n",
    "        return max_action\n",
    "        \n",
    "        \n",
    "            \n",
    "        "
   ]
  },
  {
   "cell_type": "code",
   "execution_count": null,
   "id": "47d89db7",
   "metadata": {},
   "outputs": [],
   "source": [
    "#using optuna\n",
    "import optuna\n",
    "\n",
    "def train(trial):\n",
    "    env = gym.make('LunarLander-v2')\n",
    "    memory_max_size = 10_000\n",
    "    DQL_node1 = trial.suggest_int('DQL_nodes 1', 30, 100)\n",
    "    DQL_node2 = trial.suggest_int('nodes_2', 30, 100)\n",
    "    dicount = trial.suggest_float('dicount rate', 0.9, 1.0, log=True)\n",
    "    lr_optim = trial.suggest_float('lr', 5e-4, 1e-3, log=True)\n",
    "    batch_size = trial.suggest_int('batch size', 32, 64)\n",
    "    decay_rate = trial.suggest_float('decay', 0.99,0.999, log=True)\n",
    "    agent = DQL_Agent(env,memory_max_size ,dicount ,lr_optim,DQL_node1,DQL_node2,decay_rate)\n",
    "    update_freq = 1000\n",
    "    steps = 0 \n",
    "    \n",
    "    num_episodes = 250\n",
    "    rewards = np.zeros(num_episodes)\n",
    "    moving_average = []\n",
    "    for i in range(num_episodes):\n",
    "        state = agent.env.reset()\n",
    "        Done = False\n",
    "        total_rewards = 0\n",
    "        while not Done: \n",
    "            #take an action using the greedy policy\n",
    "            action = agent.eps_greedy(state)\n",
    "            #implement the action \n",
    "            next_state, reward, Done, info = agent.env.step(action)\n",
    "            #save the experience in the memory of the agent \n",
    "            agent.reply_memory.append(state,action,reward,next_state,Done)\n",
    "            #sum the rewards\n",
    "            total_rewards += reward\n",
    "\n",
    "            #learn from experience (if there is enough)\n",
    "            agent.learnFromExperience(batch_size)\n",
    "            #update the tarqet network per the desired frequency \n",
    "            steps +=1 \n",
    "            if (steps % update_freq) == 0:\n",
    "                agent.update_target_weights()\n",
    "            state = next_state\n",
    "        #append the rewards\n",
    "        rewards[i] = total_rewards\n",
    "        moving_average.append(np.mean(rewards[-50:]))\n",
    "        #update the eps \n",
    "        agent.decay_eps()\n",
    "        if i %10 == 0:\n",
    "            print(\"The episode {} total rewards is {}\".format(i+1, total_rewards))\n",
    "            #print(len(agent.reply_memory))\n",
    "        \n",
    "    return np.mean(rewards[-150:])\n",
    "study = optuna.create_study(direction=\"maximize\")  # Create a new study.\n",
    "study.optimize(train, n_trials=30)  # Invoke optimization of the objective function."
   ]
  },
  {
   "cell_type": "code",
   "execution_count": 17,
   "id": "8ede0ef5",
   "metadata": {},
   "outputs": [
    {
     "ename": "SyntaxError",
     "evalue": "invalid syntax (<ipython-input-17-43f4db9d0565>, line 4)",
     "output_type": "error",
     "traceback": [
      "\u001b[0;36m  Input \u001b[0;32mIn [17]\u001b[0;36m\u001b[0m\n\u001b[0;31m    self.agent = DQL_Agent(env,memory_max_size ,dicount ,lr_optim,,DQL_node1,DQL_node2,decay_rate)\u001b[0m\n\u001b[0m                                                                  ^\u001b[0m\n\u001b[0;31mSyntaxError\u001b[0m\u001b[0;31m:\u001b[0m invalid syntax\n"
     ]
    }
   ],
   "source": [
    "class Training_agent:\n",
    "    #Agent and environment interaction\n",
    "    def __init__(self, env,memory_max_size =10_000,dicount= 0.957,lr_optim=6.6e-3,update_freq =1000,DQL_node1=48,DQL_node2=79,decay_rate=0.9956):\n",
    "        self.agent = DQL_Agent(env,memory_max_size ,dicount ,lr_optim,DQL_node1,DQL_node2,decay_rate)\n",
    "        self.update_freq = update_freq\n",
    "        self.steps = 0 \n",
    "    \n",
    "    def train_agent(self, num_episodes,batch_size):\n",
    "        self.rewards = np.zeros(num_episodes)\n",
    "        self.moving_average = []\n",
    "        for i in range(num_episodes):\n",
    "            state = self.agent.env.reset()\n",
    "            Done = False\n",
    "            total_rewards = 0\n",
    "            while not Done: \n",
    "                #take an action using the greedy policy\n",
    "                action = self.agent.eps_greedy(state)\n",
    "                #implement the action \n",
    "                next_state, reward, Done, info = self.agent.env.step(action)\n",
    "                #save the experience in the memory of the agent \n",
    "                self.agent.reply_memory.append(state,action,reward,next_state,Done)\n",
    "                #sum the rewards\n",
    "                total_rewards += reward\n",
    "                \n",
    "                #learn from experience (if there is enough)\n",
    "                self.agent.learnFromExperience(batch_size)\n",
    "                #update the tarqet network per the desired frequency \n",
    "                self.steps +=1 \n",
    "                if (self.steps % self.update_freq) == 0:\n",
    "                    self.agent.update_target_weights()\n",
    "                state = next_state\n",
    "            #append the rewards\n",
    "            self.rewards[i] = total_rewards\n",
    "            self.moving_average.append(np.mean(self.rewards[-50:]))\n",
    "            #update the eps \n",
    "            self.agent.decay_eps()\n",
    "            if i %10 == 0:\n",
    "                print(\"The episode {} total rewards is {}\".format(i+1, total_rewards))\n",
    "                print(len(self.agent.reply_memory))\n",
    "    def test_agent(self,env,num_run, render=False):\n",
    "        rewards = np.zeros(num_run)\n",
    "        for i in range(num_run):\n",
    "            state = env.reset()\n",
    "            Done = False \n",
    "            total_rewards = 0\n",
    "\n",
    "            while not Done: \n",
    "                action = agent.get_max_action(state)\n",
    "                next_state, reward,Done, info = env.step(action)\n",
    "                total_rewards += reward\n",
    "                if render:\n",
    "                    env.render()\n",
    "                state = next_state\n",
    "            rewards[i]= total_rewards\n",
    "            print(\"The episode total rewards is \", total_rewards)\n",
    "        env.close()\n",
    "        return rewards\n",
    "        \n",
    "      "
   ]
  },
  {
   "cell_type": "code",
   "execution_count": 18,
   "id": "51a2dfba",
   "metadata": {},
   "outputs": [
    {
     "name": "stdout",
     "output_type": "stream",
     "text": [
      "The episode 1 total rewards is -104.76862202251367\n",
      "70\n",
      "The episode 11 total rewards is -161.5043664297409\n",
      "969\n",
      "The episode 21 total rewards is -63.89878976471971\n",
      "1917\n",
      "The episode 31 total rewards is -422.2351310560372\n",
      "2821\n",
      "The episode 41 total rewards is -108.94253449066348\n",
      "3984\n",
      "The episode 51 total rewards is -343.28524699276517\n",
      "5039\n",
      "The episode 61 total rewards is -247.83418765912046\n",
      "6092\n",
      "The episode 71 total rewards is -183.6416698759798\n",
      "7147\n",
      "The episode 81 total rewards is -213.9115354856329\n",
      "8362\n",
      "The episode 91 total rewards is -73.56223305560535\n",
      "10000\n",
      "The episode 101 total rewards is -31.724966269467487\n",
      "10000\n",
      "The episode 111 total rewards is -96.30695703373149\n",
      "10000\n",
      "The episode 121 total rewards is -216.7753973301118\n",
      "10000\n",
      "The episode 131 total rewards is -55.0252370062708\n",
      "10000\n",
      "The episode 141 total rewards is -114.19691335443041\n",
      "10000\n",
      "The episode 151 total rewards is -192.0828198593851\n",
      "10000\n",
      "The episode 161 total rewards is 8.74077258792532\n",
      "10000\n",
      "The episode 171 total rewards is 4.3692146263049665\n",
      "10000\n",
      "The episode 181 total rewards is -59.88697119508632\n",
      "10000\n",
      "The episode 191 total rewards is -109.15042390744884\n",
      "10000\n",
      "The episode 201 total rewards is -67.62460322812915\n",
      "10000\n",
      "The episode 211 total rewards is -29.393205153937963\n",
      "10000\n",
      "The episode 221 total rewards is -18.881470678310976\n",
      "10000\n",
      "The episode 231 total rewards is 26.14120127319459\n",
      "10000\n",
      "The episode 241 total rewards is -48.648576272565535\n",
      "10000\n",
      "The episode 251 total rewards is -5.6268883167310975\n",
      "10000\n",
      "The episode 261 total rewards is 76.44524440682814\n",
      "10000\n",
      "The episode 271 total rewards is 139.930006248851\n",
      "10000\n",
      "The episode 281 total rewards is 27.782718654842917\n",
      "10000\n",
      "The episode 291 total rewards is 169.56593482137947\n",
      "10000\n",
      "The episode 301 total rewards is 121.72380001157248\n",
      "10000\n",
      "The episode 311 total rewards is 39.94309573622317\n",
      "10000\n",
      "The episode 321 total rewards is -192.42534065571607\n",
      "10000\n",
      "The episode 331 total rewards is 234.25594425437927\n",
      "10000\n",
      "The episode 341 total rewards is -182.95079206407053\n",
      "10000\n",
      "The episode 351 total rewards is 132.5668942960888\n",
      "10000\n",
      "The episode 361 total rewards is 112.5451016311882\n",
      "10000\n",
      "The episode 371 total rewards is 85.66023560369771\n",
      "10000\n",
      "The episode 381 total rewards is -63.731345902172066\n",
      "10000\n",
      "The episode 391 total rewards is 141.70518112602366\n",
      "10000\n",
      "The episode 401 total rewards is 192.8387001121746\n",
      "10000\n",
      "The episode 411 total rewards is 2.5567212074641787\n",
      "10000\n",
      "The episode 421 total rewards is 27.459494083355708\n",
      "10000\n",
      "The episode 431 total rewards is 194.39983740464703\n",
      "10000\n",
      "The episode 441 total rewards is 107.86825303039036\n",
      "10000\n",
      "The episode 451 total rewards is -21.432079773844507\n",
      "10000\n",
      "The episode 461 total rewards is 175.36253627459251\n",
      "10000\n",
      "The episode 471 total rewards is 165.368133183091\n",
      "10000\n",
      "The episode 481 total rewards is 63.87207181481863\n",
      "10000\n",
      "The episode 491 total rewards is -20.475150009385537\n",
      "10000\n",
      "The episode 501 total rewards is 260.5516288810599\n",
      "10000\n",
      "The episode 511 total rewards is 268.2081400187353\n",
      "10000\n",
      "The episode 521 total rewards is 139.65806279638528\n",
      "10000\n",
      "The episode 531 total rewards is -122.88757563795164\n",
      "10000\n",
      "The episode 541 total rewards is -25.26603787730934\n",
      "10000\n",
      "The episode 551 total rewards is 230.97220582814924\n",
      "10000\n",
      "The episode 561 total rewards is -6.373248965938492\n",
      "10000\n",
      "The episode 571 total rewards is 208.05449285063392\n",
      "10000\n",
      "The episode 581 total rewards is 151.61772360930107\n",
      "10000\n",
      "The episode 591 total rewards is 182.06499008567448\n",
      "10000\n",
      "The episode 601 total rewards is 252.36385151119916\n",
      "10000\n",
      "The episode 611 total rewards is 269.73040524239923\n",
      "10000\n",
      "The episode 621 total rewards is -178.29513844618174\n",
      "10000\n",
      "The episode 631 total rewards is -17.544497080236255\n",
      "10000\n",
      "The episode 641 total rewards is -17.312100707568234\n",
      "10000\n",
      "The episode 651 total rewards is 2.0751752692419245\n",
      "10000\n",
      "The episode 661 total rewards is 266.3725000944165\n",
      "10000\n",
      "The episode 671 total rewards is 277.5313170787274\n",
      "10000\n",
      "The episode 681 total rewards is 208.87206795186358\n",
      "10000\n",
      "The episode 691 total rewards is 171.4691188538962\n",
      "10000\n",
      "The episode 701 total rewards is 199.73465568139915\n",
      "10000\n",
      "The episode 711 total rewards is 260.2825945881806\n",
      "10000\n",
      "The episode 721 total rewards is 241.7041724936784\n",
      "10000\n",
      "The episode 731 total rewards is 247.378339454918\n",
      "10000\n",
      "The episode 741 total rewards is 263.5568475397487\n",
      "10000\n",
      "The episode 751 total rewards is 154.7634242747203\n",
      "10000\n",
      "The episode 761 total rewards is 251.99238787707702\n",
      "10000\n",
      "The episode 771 total rewards is 241.46697909123426\n",
      "10000\n",
      "The episode 781 total rewards is 247.90971015646448\n",
      "10000\n",
      "The episode 791 total rewards is 231.15633292085806\n",
      "10000\n",
      "The episode 801 total rewards is 261.0711815451124\n",
      "10000\n",
      "The episode 811 total rewards is 276.07330425646194\n",
      "10000\n",
      "The episode 821 total rewards is -17.672949435080525\n",
      "10000\n",
      "The episode 831 total rewards is 254.42566755854142\n",
      "10000\n",
      "The episode 841 total rewards is 22.811516492245133\n",
      "10000\n",
      "The episode 851 total rewards is 6.6538610214958\n",
      "10000\n",
      "The episode 861 total rewards is -348.72972143127504\n",
      "10000\n",
      "The episode 871 total rewards is 277.7060059051171\n",
      "10000\n",
      "The episode 881 total rewards is 121.28466928071347\n",
      "10000\n",
      "The episode 891 total rewards is 29.19418420653892\n",
      "10000\n",
      "The episode 901 total rewards is 4.927050147964721\n",
      "10000\n",
      "The episode 911 total rewards is 257.95461300059736\n",
      "10000\n",
      "The episode 921 total rewards is 236.57863194959654\n",
      "10000\n",
      "The episode 931 total rewards is 272.1236839878835\n",
      "10000\n",
      "The episode 941 total rewards is -27.217862691223814\n",
      "10000\n",
      "The episode 951 total rewards is 292.3523818752195\n",
      "10000\n",
      "The episode 961 total rewards is 182.89796477946192\n",
      "10000\n",
      "The episode 971 total rewards is -23.782898367817552\n",
      "10000\n",
      "The episode 981 total rewards is 11.322283594812689\n",
      "10000\n",
      "The episode 991 total rewards is 98.47469582412918\n",
      "10000\n",
      "891.5481688976288\n"
     ]
    }
   ],
   "source": [
    "import time\n",
    "env = gym.make('LunarLander-v2')\n",
    "training_agent = Training_agent(env)\n",
    "start = time.time()\n",
    "training_agent.train_agent(1000,32)\n",
    "print (time.time()-start)"
   ]
  },
  {
   "cell_type": "code",
   "execution_count": 22,
   "id": "69786029",
   "metadata": {},
   "outputs": [
    {
     "data": {
      "text/plain": [
       "[<matplotlib.lines.Line2D at 0x7fa16eeac3a0>]"
      ]
     },
     "execution_count": 22,
     "metadata": {},
     "output_type": "execute_result"
    },
    {
     "data": {
      "image/png": "[encoded data removed]",
      "text/plain": [
       "<Figure size 432x288 with 1 Axes>"
      ]
     },
     "metadata": {
      "needs_background": "light"
     },
     "output_type": "display_data"
    }
   ],
   "source": [
    "plt.plot(training_agent.rewards)\n",
    "plt.plot(training_agent.moving_average)"
   ]
  },
  {
   "cell_type": "code",
   "execution_count": 16,
   "id": "8ba259d8",
   "metadata": {},
   "outputs": [
    {
     "name": "stderr",
     "output_type": "stream",
     "text": [
      "\u001b[32m[I 2022-06-12 22:01:46,357]\u001b[0m A new study created in memory with name: no-name-eb36011f-f9de-44f6-b253-153428d9990a\u001b[0m\n"
     ]
    },
    {
     "name": "stdout",
     "output_type": "stream",
     "text": [
      "The episode 1 total rewards is -257.92890228366923\n",
      "The episode 11 total rewards is -127.07684855971345\n",
      "The episode 21 total rewards is -391.1194038258198\n",
      "The episode 31 total rewards is -228.0570674900716\n",
      "The episode 41 total rewards is -122.43016885560566\n",
      "The episode 51 total rewards is -386.9165278683204\n",
      "The episode 61 total rewards is -319.44215308816035\n",
      "The episode 71 total rewards is -35.42086237725613\n",
      "The episode 81 total rewards is -109.6761235353246\n",
      "The episode 91 total rewards is -60.87882010940865\n",
      "The episode 101 total rewards is -219.23740342917264\n",
      "The episode 111 total rewards is -74.3909092674826\n",
      "The episode 121 total rewards is -5.705532270335283\n",
      "The episode 131 total rewards is -165.1297574612692\n",
      "The episode 141 total rewards is -76.22493373043018\n",
      "The episode 151 total rewards is -174.16627508462122\n",
      "The episode 161 total rewards is 72.42279704375073\n",
      "The episode 171 total rewards is 49.64904718470949\n",
      "The episode 181 total rewards is 21.113414967814382\n",
      "The episode 191 total rewards is -26.029874178098837\n",
      "The episode 201 total rewards is 42.346525653454584\n",
      "The episode 211 total rewards is -3.6027171016611366\n",
      "The episode 221 total rewards is 16.99008081286668\n",
      "The episode 231 total rewards is -11.43609179153021\n",
      "The episode 241 total rewards is -74.11165658206889\n"
     ]
    },
    {
     "name": "stderr",
     "output_type": "stream",
     "text": [
      "\u001b[32m[I 2022-06-12 22:06:39,331]\u001b[0m Trial 0 finished with value: -29.99549182288824 and parameters: {'DQL_nodes 1': 48, 'nodes_2': 45, 'dicount rate': 0.9783032937004372, 'lr': 0.000502586256733191, 'DQL nodes 2': 54, 'decay': 0.9933602260587918}. Best is trial 0 with value: -29.99549182288824.\u001b[0m\n"
     ]
    },
    {
     "name": "stdout",
     "output_type": "stream",
     "text": [
      "The episode 1 total rewards is -242.14047645391224\n",
      "The episode 11 total rewards is -96.02134826642487\n",
      "The episode 21 total rewards is -131.1083963397374\n",
      "The episode 31 total rewards is -157.3766723407089\n",
      "The episode 41 total rewards is -115.52319736649063\n",
      "The episode 51 total rewards is -65.10516296320682\n",
      "The episode 61 total rewards is -172.7050514325747\n",
      "The episode 71 total rewards is -153.9633908748865\n",
      "The episode 81 total rewards is -182.9481175723144\n",
      "The episode 91 total rewards is -76.65861940230687\n",
      "The episode 101 total rewards is -221.7798107130646\n",
      "The episode 111 total rewards is -161.43506754646856\n",
      "The episode 121 total rewards is 103.26753139923105\n",
      "The episode 131 total rewards is -187.83480063108826\n",
      "The episode 141 total rewards is 36.23032762683923\n",
      "The episode 151 total rewards is -81.88513789875897\n",
      "The episode 161 total rewards is -69.79033658340974\n",
      "The episode 171 total rewards is -107.83392852973236\n",
      "The episode 181 total rewards is -105.51990110700473\n",
      "The episode 191 total rewards is -338.8086670291749\n",
      "The episode 201 total rewards is -94.23521250412\n",
      "The episode 211 total rewards is -103.61767418715596\n",
      "The episode 221 total rewards is -55.990931365999046\n",
      "The episode 231 total rewards is -62.7737149110514\n",
      "The episode 241 total rewards is -119.75578397743675\n"
     ]
    },
    {
     "name": "stderr",
     "output_type": "stream",
     "text": [
      "\u001b[32m[I 2022-06-12 22:07:32,804]\u001b[0m Trial 1 finished with value: -99.70520742207957 and parameters: {'DQL_nodes 1': 96, 'nodes_2': 66, 'dicount rate': 0.9370978791284981, 'lr': 0.0008819628347575319, 'DQL nodes 2': 63, 'decay': 0.9987200264772003}. Best is trial 0 with value: -29.99549182288824.\u001b[0m\n"
     ]
    },
    {
     "name": "stdout",
     "output_type": "stream",
     "text": [
      "The episode 1 total rewards is -118.84076448612475\n",
      "The episode 11 total rewards is -30.048832734759856\n",
      "The episode 21 total rewards is -258.8910951021716\n",
      "The episode 31 total rewards is -186.5633227500574\n",
      "The episode 41 total rewards is -250.26277293500098\n",
      "The episode 51 total rewards is -86.8366262312989\n",
      "The episode 61 total rewards is -208.25239753950783\n",
      "The episode 71 total rewards is -229.74307820321445\n",
      "The episode 81 total rewards is -281.3417966583273\n",
      "The episode 91 total rewards is -368.08375156922665\n",
      "The episode 101 total rewards is -96.04442395055457\n",
      "The episode 111 total rewards is -198.46926237759632\n",
      "The episode 121 total rewards is 18.235874631674875\n",
      "The episode 131 total rewards is 106.78825113498769\n",
      "The episode 141 total rewards is -225.24364891518263\n",
      "The episode 151 total rewards is 58.04676089535188\n",
      "The episode 161 total rewards is -160.44947398759143\n",
      "The episode 171 total rewards is -35.396639320536536\n",
      "The episode 181 total rewards is 25.198656447466117\n",
      "The episode 191 total rewards is 101.10702598633567\n",
      "The episode 201 total rewards is -233.70951496600762\n",
      "The episode 211 total rewards is 180.85689766089536\n",
      "The episode 221 total rewards is -102.71218820695422\n",
      "The episode 231 total rewards is 265.37411506589126\n",
      "The episode 241 total rewards is 0.5758144237045997\n"
     ]
    },
    {
     "name": "stderr",
     "output_type": "stream",
     "text": [
      "\u001b[32m[I 2022-06-12 22:12:07,828]\u001b[0m Trial 2 finished with value: -28.12598937440493 and parameters: {'DQL_nodes 1': 34, 'nodes_2': 33, 'dicount rate': 0.9010952121615743, 'lr': 0.0005776518285238604, 'DQL nodes 2': 51, 'decay': 0.9906050684717242}. Best is trial 2 with value: -28.12598937440493.\u001b[0m\n"
     ]
    },
    {
     "name": "stdout",
     "output_type": "stream",
     "text": [
      "The episode 1 total rewards is -248.8812737353379\n",
      "The episode 11 total rewards is -189.79354456877493\n",
      "The episode 21 total rewards is -207.02021018726646\n",
      "The episode 31 total rewards is -195.10764487751268\n",
      "The episode 41 total rewards is -65.20316259323408\n",
      "The episode 51 total rewards is -144.98490126812396\n",
      "The episode 61 total rewards is -57.194373538407\n",
      "The episode 71 total rewards is -157.4786779819663\n",
      "The episode 81 total rewards is -98.48646157024288\n",
      "The episode 91 total rewards is -183.56198402882205\n",
      "The episode 101 total rewards is -20.67067075827923\n",
      "The episode 111 total rewards is 38.63655428898477\n",
      "The episode 121 total rewards is 11.008286642639263\n",
      "The episode 131 total rewards is -63.875490497050016\n",
      "The episode 141 total rewards is -161.06686235607526\n",
      "The episode 151 total rewards is 100.63889555270663\n",
      "The episode 161 total rewards is 54.37035189439922\n",
      "The episode 171 total rewards is 73.05151962415488\n",
      "The episode 181 total rewards is 6.022259402713544\n",
      "The episode 191 total rewards is 84.37630331604633\n",
      "The episode 201 total rewards is 17.23067212424419\n",
      "The episode 211 total rewards is 138.43992464862373\n",
      "The episode 221 total rewards is 294.67136227547496\n",
      "The episode 231 total rewards is 271.087626158831\n",
      "The episode 241 total rewards is 192.34474147825654\n"
     ]
    },
    {
     "name": "stderr",
     "output_type": "stream",
     "text": [
      "\u001b[32m[I 2022-06-12 22:16:46,968]\u001b[0m Trial 3 finished with value: 41.82946896658695 and parameters: {'DQL_nodes 1': 46, 'nodes_2': 96, 'dicount rate': 0.9915670677042686, 'lr': 0.0009074084589674853, 'DQL nodes 2': 58, 'decay': 0.9942005887509291}. Best is trial 3 with value: 41.82946896658695.\u001b[0m\n"
     ]
    },
    {
     "name": "stdout",
     "output_type": "stream",
     "text": [
      "The episode 1 total rewards is -204.80913664701438\n",
      "The episode 11 total rewards is -156.0009112389271\n",
      "The episode 21 total rewards is -68.69661597354194\n",
      "The episode 31 total rewards is -330.6442446490594\n",
      "The episode 41 total rewards is -80.02039248577776\n",
      "The episode 51 total rewards is -77.59155110811218\n",
      "The episode 61 total rewards is -261.61180158355273\n",
      "The episode 71 total rewards is -422.63440737608283\n",
      "The episode 81 total rewards is -149.26567097268085\n",
      "The episode 91 total rewards is -158.5186877959187\n",
      "The episode 101 total rewards is -89.53279422752964\n",
      "The episode 111 total rewards is -301.72743365334986\n",
      "The episode 121 total rewards is -93.89360150577662\n",
      "The episode 131 total rewards is -98.2125845983281\n",
      "The episode 141 total rewards is -100.64548183750995\n",
      "The episode 151 total rewards is -175.2854198530402\n",
      "The episode 161 total rewards is -76.25362422147404\n",
      "The episode 171 total rewards is -218.03460672798596\n",
      "The episode 181 total rewards is -104.8834703841826\n",
      "The episode 191 total rewards is -265.2194318549151\n",
      "The episode 201 total rewards is -128.59259543228555\n",
      "The episode 211 total rewards is -25.85358553858522\n",
      "The episode 221 total rewards is -132.34401977599398\n",
      "The episode 231 total rewards is -98.01824607803597\n",
      "The episode 241 total rewards is -214.0865786784385\n"
     ]
    },
    {
     "name": "stderr",
     "output_type": "stream",
     "text": [
      "\u001b[32m[I 2022-06-12 22:17:32,755]\u001b[0m Trial 4 finished with value: -120.84191837912216 and parameters: {'DQL_nodes 1': 37, 'nodes_2': 35, 'dicount rate': 0.9610071961820451, 'lr': 0.0006602756754233055, 'DQL nodes 2': 62, 'decay': 0.9988539795818744}. Best is trial 3 with value: 41.82946896658695.\u001b[0m\n"
     ]
    },
    {
     "name": "stdout",
     "output_type": "stream",
     "text": [
      "The episode 1 total rewards is -100.19262856899421\n",
      "The episode 11 total rewards is -322.88827562829124\n",
      "The episode 21 total rewards is -434.34617949033935\n",
      "The episode 31 total rewards is -401.8855499655979\n",
      "The episode 41 total rewards is -245.35393582898004\n",
      "The episode 51 total rewards is -321.14167226379993\n",
      "The episode 61 total rewards is -210.98478942494546\n",
      "The episode 71 total rewards is -177.56486434779117\n",
      "The episode 81 total rewards is -255.2868039110522\n",
      "The episode 91 total rewards is -66.8370197805145\n",
      "The episode 101 total rewards is -42.13134429334145\n",
      "The episode 111 total rewards is -204.86416812002392\n",
      "The episode 121 total rewards is -2.486425917965306\n",
      "The episode 131 total rewards is -55.3265115941852\n",
      "The episode 141 total rewards is -135.31584121611695\n",
      "The episode 151 total rewards is -44.353394331780244\n",
      "The episode 161 total rewards is -59.7140324540089\n",
      "The episode 171 total rewards is 63.29405789725937\n",
      "The episode 181 total rewards is -27.34164518187319\n",
      "The episode 191 total rewards is 133.44463127512765\n",
      "The episode 201 total rewards is -167.753811076795\n",
      "The episode 211 total rewards is 74.96265843668041\n",
      "The episode 221 total rewards is 109.32458450113725\n",
      "The episode 231 total rewards is -83.9693296146518\n",
      "The episode 241 total rewards is 23.65403460937354\n"
     ]
    },
    {
     "name": "stderr",
     "output_type": "stream",
     "text": [
      "\u001b[32m[I 2022-06-12 22:20:41,976]\u001b[0m Trial 5 finished with value: -41.019745802296164 and parameters: {'DQL_nodes 1': 49, 'nodes_2': 79, 'dicount rate': 0.9572936847858522, 'lr': 0.0006565298716658261, 'DQL nodes 2': 32, 'decay': 0.9956080725479213}. Best is trial 3 with value: 41.82946896658695.\u001b[0m\n"
     ]
    },
    {
     "name": "stdout",
     "output_type": "stream",
     "text": [
      "The episode 1 total rewards is -325.639409699011\n",
      "The episode 11 total rewards is -346.54936249396303\n",
      "The episode 21 total rewards is -134.62079112097672\n",
      "The episode 31 total rewards is -33.04240742127993\n",
      "The episode 41 total rewards is -270.21451488600894\n",
      "The episode 51 total rewards is -178.0780565137514\n",
      "The episode 61 total rewards is -179.5482366669986\n",
      "The episode 71 total rewards is -195.18538591730908\n",
      "The episode 81 total rewards is -104.67151049054483\n",
      "The episode 91 total rewards is -62.79261311001281\n",
      "The episode 101 total rewards is -104.74160340864799\n",
      "The episode 111 total rewards is -53.19956528336384\n",
      "The episode 121 total rewards is -82.94282307094386\n",
      "The episode 131 total rewards is -51.14817011429786\n",
      "The episode 141 total rewards is -148.31430421438736\n",
      "The episode 151 total rewards is -93.89670250559861\n",
      "The episode 161 total rewards is -65.82731059773099\n",
      "The episode 171 total rewards is 20.019350262700172\n",
      "The episode 181 total rewards is -83.32218472818609\n"
     ]
    },
    {
     "ename": "KeyboardInterrupt",
     "evalue": "",
     "output_type": "error",
     "traceback": [
      "\u001b[0;31m---------------------------------------------------------------------------\u001b[0m",
      "\u001b[0;31mKeyboardInterrupt\u001b[0m                         Traceback (most recent call last)",
      "Input \u001b[0;32mIn [16]\u001b[0m, in \u001b[0;36m<cell line: 52>\u001b[0;34m()\u001b[0m\n\u001b[1;32m     50\u001b[0m     \u001b[38;5;28;01mreturn\u001b[39;00m np\u001b[38;5;241m.\u001b[39mmean(rewards[\u001b[38;5;241m-\u001b[39m\u001b[38;5;241m150\u001b[39m:])\n\u001b[1;32m     51\u001b[0m study \u001b[38;5;241m=\u001b[39m optuna\u001b[38;5;241m.\u001b[39mcreate_study(direction\u001b[38;5;241m=\u001b[39m\u001b[38;5;124m\"\u001b[39m\u001b[38;5;124mmaximize\u001b[39m\u001b[38;5;124m\"\u001b[39m)  \u001b[38;5;66;03m# Create a new study.\u001b[39;00m\n\u001b[0;32m---> 52\u001b[0m \u001b[43mstudy\u001b[49m\u001b[38;5;241;43m.\u001b[39;49m\u001b[43moptimize\u001b[49m\u001b[43m(\u001b[49m\u001b[43mtrain\u001b[49m\u001b[43m,\u001b[49m\u001b[43m \u001b[49m\u001b[43mn_trials\u001b[49m\u001b[38;5;241;43m=\u001b[39;49m\u001b[38;5;241;43m30\u001b[39;49m\u001b[43m)\u001b[49m\n",
      "File \u001b[0;32m~/miniconda3/envs/rl_env/lib/python3.9/site-packages/optuna/study/study.py:400\u001b[0m, in \u001b[0;36mStudy.optimize\u001b[0;34m(self, func, n_trials, timeout, n_jobs, catch, callbacks, gc_after_trial, show_progress_bar)\u001b[0m\n\u001b[1;32m    392\u001b[0m \u001b[38;5;28;01mif\u001b[39;00m n_jobs \u001b[38;5;241m!=\u001b[39m \u001b[38;5;241m1\u001b[39m:\n\u001b[1;32m    393\u001b[0m     warnings\u001b[38;5;241m.\u001b[39mwarn(\n\u001b[1;32m    394\u001b[0m         \u001b[38;5;124m\"\u001b[39m\u001b[38;5;124m`n_jobs` argument has been deprecated in v2.7.0. \u001b[39m\u001b[38;5;124m\"\u001b[39m\n\u001b[1;32m    395\u001b[0m         \u001b[38;5;124m\"\u001b[39m\u001b[38;5;124mThis feature will be removed in v4.0.0. \u001b[39m\u001b[38;5;124m\"\u001b[39m\n\u001b[1;32m    396\u001b[0m         \u001b[38;5;124m\"\u001b[39m\u001b[38;5;124mSee https://github.com/optuna/optuna/releases/tag/v2.7.0.\u001b[39m\u001b[38;5;124m\"\u001b[39m,\n\u001b[1;32m    397\u001b[0m         \u001b[38;5;167;01mFutureWarning\u001b[39;00m,\n\u001b[1;32m    398\u001b[0m     )\n\u001b[0;32m--> 400\u001b[0m \u001b[43m_optimize\u001b[49m\u001b[43m(\u001b[49m\n\u001b[1;32m    401\u001b[0m \u001b[43m    \u001b[49m\u001b[43mstudy\u001b[49m\u001b[38;5;241;43m=\u001b[39;49m\u001b[38;5;28;43mself\u001b[39;49m\u001b[43m,\u001b[49m\n\u001b[1;32m    402\u001b[0m \u001b[43m    \u001b[49m\u001b[43mfunc\u001b[49m\u001b[38;5;241;43m=\u001b[39;49m\u001b[43mfunc\u001b[49m\u001b[43m,\u001b[49m\n\u001b[1;32m    403\u001b[0m \u001b[43m    \u001b[49m\u001b[43mn_trials\u001b[49m\u001b[38;5;241;43m=\u001b[39;49m\u001b[43mn_trials\u001b[49m\u001b[43m,\u001b[49m\n\u001b[1;32m    404\u001b[0m \u001b[43m    \u001b[49m\u001b[43mtimeout\u001b[49m\u001b[38;5;241;43m=\u001b[39;49m\u001b[43mtimeout\u001b[49m\u001b[43m,\u001b[49m\n\u001b[1;32m    405\u001b[0m \u001b[43m    \u001b[49m\u001b[43mn_jobs\u001b[49m\u001b[38;5;241;43m=\u001b[39;49m\u001b[43mn_jobs\u001b[49m\u001b[43m,\u001b[49m\n\u001b[1;32m    406\u001b[0m \u001b[43m    \u001b[49m\u001b[43mcatch\u001b[49m\u001b[38;5;241;43m=\u001b[39;49m\u001b[43mcatch\u001b[49m\u001b[43m,\u001b[49m\n\u001b[1;32m    407\u001b[0m \u001b[43m    \u001b[49m\u001b[43mcallbacks\u001b[49m\u001b[38;5;241;43m=\u001b[39;49m\u001b[43mcallbacks\u001b[49m\u001b[43m,\u001b[49m\n\u001b[1;32m    408\u001b[0m \u001b[43m    \u001b[49m\u001b[43mgc_after_trial\u001b[49m\u001b[38;5;241;43m=\u001b[39;49m\u001b[43mgc_after_trial\u001b[49m\u001b[43m,\u001b[49m\n\u001b[1;32m    409\u001b[0m \u001b[43m    \u001b[49m\u001b[43mshow_progress_bar\u001b[49m\u001b[38;5;241;43m=\u001b[39;49m\u001b[43mshow_progress_bar\u001b[49m\u001b[43m,\u001b[49m\n\u001b[1;32m    410\u001b[0m \u001b[43m\u001b[49m\u001b[43m)\u001b[49m\n",
      "File \u001b[0;32m~/miniconda3/envs/rl_env/lib/python3.9/site-packages/optuna/study/_optimize.py:66\u001b[0m, in \u001b[0;36m_optimize\u001b[0;34m(study, func, n_trials, timeout, n_jobs, catch, callbacks, gc_after_trial, show_progress_bar)\u001b[0m\n\u001b[1;32m     64\u001b[0m \u001b[38;5;28;01mtry\u001b[39;00m:\n\u001b[1;32m     65\u001b[0m     \u001b[38;5;28;01mif\u001b[39;00m n_jobs \u001b[38;5;241m==\u001b[39m \u001b[38;5;241m1\u001b[39m:\n\u001b[0;32m---> 66\u001b[0m         \u001b[43m_optimize_sequential\u001b[49m\u001b[43m(\u001b[49m\n\u001b[1;32m     67\u001b[0m \u001b[43m            \u001b[49m\u001b[43mstudy\u001b[49m\u001b[43m,\u001b[49m\n\u001b[1;32m     68\u001b[0m \u001b[43m            \u001b[49m\u001b[43mfunc\u001b[49m\u001b[43m,\u001b[49m\n\u001b[1;32m     69\u001b[0m \u001b[43m            \u001b[49m\u001b[43mn_trials\u001b[49m\u001b[43m,\u001b[49m\n\u001b[1;32m     70\u001b[0m \u001b[43m            \u001b[49m\u001b[43mtimeout\u001b[49m\u001b[43m,\u001b[49m\n\u001b[1;32m     71\u001b[0m \u001b[43m            \u001b[49m\u001b[43mcatch\u001b[49m\u001b[43m,\u001b[49m\n\u001b[1;32m     72\u001b[0m \u001b[43m            \u001b[49m\u001b[43mcallbacks\u001b[49m\u001b[43m,\u001b[49m\n\u001b[1;32m     73\u001b[0m \u001b[43m            \u001b[49m\u001b[43mgc_after_trial\u001b[49m\u001b[43m,\u001b[49m\n\u001b[1;32m     74\u001b[0m \u001b[43m            \u001b[49m\u001b[43mreseed_sampler_rng\u001b[49m\u001b[38;5;241;43m=\u001b[39;49m\u001b[38;5;28;43;01mFalse\u001b[39;49;00m\u001b[43m,\u001b[49m\n\u001b[1;32m     75\u001b[0m \u001b[43m            \u001b[49m\u001b[43mtime_start\u001b[49m\u001b[38;5;241;43m=\u001b[39;49m\u001b[38;5;28;43;01mNone\u001b[39;49;00m\u001b[43m,\u001b[49m\n\u001b[1;32m     76\u001b[0m \u001b[43m            \u001b[49m\u001b[43mprogress_bar\u001b[49m\u001b[38;5;241;43m=\u001b[39;49m\u001b[43mprogress_bar\u001b[49m\u001b[43m,\u001b[49m\n\u001b[1;32m     77\u001b[0m \u001b[43m        \u001b[49m\u001b[43m)\u001b[49m\n\u001b[1;32m     78\u001b[0m     \u001b[38;5;28;01melse\u001b[39;00m:\n\u001b[1;32m     79\u001b[0m         \u001b[38;5;28;01mif\u001b[39;00m show_progress_bar:\n",
      "File \u001b[0;32m~/miniconda3/envs/rl_env/lib/python3.9/site-packages/optuna/study/_optimize.py:163\u001b[0m, in \u001b[0;36m_optimize_sequential\u001b[0;34m(study, func, n_trials, timeout, catch, callbacks, gc_after_trial, reseed_sampler_rng, time_start, progress_bar)\u001b[0m\n\u001b[1;32m    160\u001b[0m         \u001b[38;5;28;01mbreak\u001b[39;00m\n\u001b[1;32m    162\u001b[0m \u001b[38;5;28;01mtry\u001b[39;00m:\n\u001b[0;32m--> 163\u001b[0m     trial \u001b[38;5;241m=\u001b[39m \u001b[43m_run_trial\u001b[49m\u001b[43m(\u001b[49m\u001b[43mstudy\u001b[49m\u001b[43m,\u001b[49m\u001b[43m \u001b[49m\u001b[43mfunc\u001b[49m\u001b[43m,\u001b[49m\u001b[43m \u001b[49m\u001b[43mcatch\u001b[49m\u001b[43m)\u001b[49m\n\u001b[1;32m    164\u001b[0m \u001b[38;5;28;01mexcept\u001b[39;00m \u001b[38;5;167;01mException\u001b[39;00m:\n\u001b[1;32m    165\u001b[0m     \u001b[38;5;28;01mraise\u001b[39;00m\n",
      "File \u001b[0;32m~/miniconda3/envs/rl_env/lib/python3.9/site-packages/optuna/study/_optimize.py:213\u001b[0m, in \u001b[0;36m_run_trial\u001b[0;34m(study, func, catch)\u001b[0m\n\u001b[1;32m    210\u001b[0m     thread\u001b[38;5;241m.\u001b[39mstart()\n\u001b[1;32m    212\u001b[0m \u001b[38;5;28;01mtry\u001b[39;00m:\n\u001b[0;32m--> 213\u001b[0m     value_or_values \u001b[38;5;241m=\u001b[39m \u001b[43mfunc\u001b[49m\u001b[43m(\u001b[49m\u001b[43mtrial\u001b[49m\u001b[43m)\u001b[49m\n\u001b[1;32m    214\u001b[0m \u001b[38;5;28;01mexcept\u001b[39;00m exceptions\u001b[38;5;241m.\u001b[39mTrialPruned \u001b[38;5;28;01mas\u001b[39;00m e:\n\u001b[1;32m    215\u001b[0m     \u001b[38;5;66;03m# TODO(mamu): Handle multi-objective cases.\u001b[39;00m\n\u001b[1;32m    216\u001b[0m     state \u001b[38;5;241m=\u001b[39m TrialState\u001b[38;5;241m.\u001b[39mPRUNED\n",
      "Input \u001b[0;32mIn [16]\u001b[0m, in \u001b[0;36mtrain\u001b[0;34m(trial)\u001b[0m\n\u001b[1;32m     32\u001b[0m total_rewards \u001b[38;5;241m+\u001b[39m\u001b[38;5;241m=\u001b[39m reward\n\u001b[1;32m     34\u001b[0m \u001b[38;5;66;03m#learn from experience (if there is enough)\u001b[39;00m\n\u001b[0;32m---> 35\u001b[0m \u001b[43magent\u001b[49m\u001b[38;5;241;43m.\u001b[39;49m\u001b[43mlearnFromExperience\u001b[49m\u001b[43m(\u001b[49m\u001b[43mbatch_size\u001b[49m\u001b[43m)\u001b[49m\n\u001b[1;32m     36\u001b[0m \u001b[38;5;66;03m#update the tarqet network per the desired frequency \u001b[39;00m\n\u001b[1;32m     37\u001b[0m steps \u001b[38;5;241m+\u001b[39m\u001b[38;5;241m=\u001b[39m\u001b[38;5;241m1\u001b[39m \n",
      "Input \u001b[0;32mIn [7]\u001b[0m, in \u001b[0;36mDQL_Agent.learnFromExperience\u001b[0;34m(self, miniBatchSize)\u001b[0m\n\u001b[1;32m     65\u001b[0m Q_estimate_a \u001b[38;5;241m=\u001b[39m Q_estimate\u001b[38;5;241m.\u001b[39mgather(\u001b[38;5;241m1\u001b[39m, actions\u001b[38;5;241m.\u001b[39mview(\u001b[38;5;241m-\u001b[39m\u001b[38;5;241m1\u001b[39m, \u001b[38;5;241m1\u001b[39m))\u001b[38;5;241m.\u001b[39msqueeze(\u001b[38;5;241m1\u001b[39m)\n\u001b[1;32m     67\u001b[0m \u001b[38;5;66;03m#calculate the target value using --> rewards + discount* argmax_a Q(next_state, target_network_weight)\u001b[39;00m\n\u001b[1;32m     68\u001b[0m \u001b[38;5;66;03m#the max gives both the max values and the indices \u001b[39;00m\n\u001b[0;32m---> 69\u001b[0m Q_target \u001b[38;5;241m=\u001b[39m \u001b[38;5;28;43mself\u001b[39;49m\u001b[38;5;241;43m.\u001b[39;49m\u001b[43mQ_target\u001b[49m\u001b[43m(\u001b[49m\u001b[43mnext_states\u001b[49m\u001b[43m)\u001b[49m\u001b[38;5;241;43m.\u001b[39;49m\u001b[43mmax\u001b[49m\u001b[43m(\u001b[49m\u001b[43mdim\u001b[49m\u001b[38;5;241;43m=\u001b[39;49m\u001b[38;5;241;43m1\u001b[39;49m\u001b[43m)\u001b[49m\u001b[38;5;241m.\u001b[39mvalues\n\u001b[1;32m     70\u001b[0m \u001b[38;5;66;03m#note that one the state is terminal, we only count the reward, therefore, we need to check if the state is Dones\u001b[39;00m\n\u001b[1;32m     71\u001b[0m \u001b[38;5;66;03m#if Done is true, we should not calculate Q for the next states \u001b[39;00m\n\u001b[1;32m     72\u001b[0m Q_target[Dones] \u001b[38;5;241m=\u001b[39m \u001b[38;5;241m0.0\u001b[39m \n",
      "\u001b[0;31mKeyboardInterrupt\u001b[0m: "
     ]
    }
   ],
   "source": []
  },
  {
   "cell_type": "code",
   "execution_count": 88,
   "id": "cdf4ca1f",
   "metadata": {},
   "outputs": [
    {
     "name": "stdout",
     "output_type": "stream",
     "text": [
      "0.05\n",
      "The episode total rewards is  199.85354865513972\n"
     ]
    }
   ],
   "source": [
    "print(training_agent.agent.eps)\n",
    "training_agent.test_agent(env,render=True)\n"
   ]
  },
  {
   "cell_type": "code",
   "execution_count": null,
   "id": "e1c48fe9",
   "metadata": {},
   "outputs": [],
   "source": []
  },
  {
   "cell_type": "code",
   "execution_count": null,
   "id": "f265a412",
   "metadata": {},
   "outputs": [],
   "source": []
  }
 ],
 "metadata": {
  "kernelspec": {
   "display_name": "Python 3",
   "language": "python",
   "name": "python3"
  },
  "language_info": {
   "codemirror_mode": {
    "name": "ipython",
    "version": 3
   },
   "file_extension": ".py",
   "mimetype": "text/x-python",
   "name": "python",
   "nbconvert_exporter": "python",
   "pygments_lexer": "ipython3",
   "version": "3.9.12"
  }
 },
 "nbformat": 4,
 "nbformat_minor": 5
}
